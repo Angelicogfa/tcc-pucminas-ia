{
 "cells": [
  {
   "cell_type": "markdown",
   "metadata": {},
   "source": [
    "# PUC Minas EAD - Trabalho de conclusão de curso\n",
    "\n",
    "Trabalho de conclusão de curso de Guilherme Fernando Angélico para o título de especialista em Inteligência Artificial e Machine Learning. 28/02/2022"
   ]
  },
  {
   "cell_type": "code",
   "execution_count": 1,
   "metadata": {},
   "outputs": [
    {
     "name": "stdout",
     "output_type": "stream",
     "text": [
      "Versão da linguagem python utilizada para a execução desse notebook: 3.9.7\n"
     ]
    }
   ],
   "source": [
    "# Versão da Linguagem Python\n",
    "from platform import python_version\n",
    "print('Versão da linguagem python utilizada para a execução desse notebook:', python_version())"
   ]
  },
  {
   "cell_type": "markdown",
   "metadata": {},
   "source": [
    "## Detectando transações fraldulentas de cartão de crédito com Inteligência Artificial"
   ]
  },
  {
   "cell_type": "markdown",
   "metadata": {},
   "source": [
    "!['Análise automatica de transações fraldulentas de cartão de crédito'](./images/analise-manual-de-risco.png)"
   ]
  },
  {
   "cell_type": "markdown",
   "metadata": {},
   "source": [
    "## Definição do problema\n",
    "\n",
    "Os sistemas comerciais sempre estão em constante evolução, e transacionar uma compra em um e-commerce é uma operação cada vez mais comum; E na mesma velocidade em que as transações ocorrem sempre há uma possibilidade de que essa transação seja fraudulenta, ou seja, não é o dententor do cartão efetuando a compra - uma pessoa maliciosa pode ter capturado esses dados e se passar por essa pessoa.\n",
    "\n",
    "Nesse projeto, vamos criar um sistema capaz de analisar as transações financeiras e criar um modelo capaz de prever uma classe para cada transação indicando se ela é uma **Transação Válida** ou um **Transaçao Fraldulenta**."
   ]
  },
  {
   "cell_type": "code",
   "execution_count": 2,
   "metadata": {},
   "outputs": [],
   "source": [
    "import tqdm\n",
    "import numpy as np\n",
    "import pandas as pd\n",
    "import datetime as dt\n",
    "import seaborn as sns\n",
    "import tensorflow as tf\n",
    "import matplotlib.pyplot as plt\n",
    "\n",
    "from pylab import rcParams\n",
    "from tensorflow.keras import Sequential, Input\n",
    "from sklearn.model_selection import train_test_split\n",
    "from sklearn.preprocessing import StandardScaler, MinMaxScaler\n",
    "from tensorflow.keras.callbacks import ModelCheckpoint, EarlyStopping\n",
    "from tensorflow.keras.layers import Dense, LSTM, RepeatVector, TimeDistributed\n",
    "from sklearn.metrics import confusion_matrix, roc_auc_score, roc_curve, f1_score ,precision_score, recall_score, accuracy_score, precision_recall_curve\n",
    "\n",
    "sns.set(style='whitegrid', palette='muted', font_scale=1.5)\n",
    "rcParams['figure.figsize'] = 14, 8\n",
    "RANDOM_SEED = 42\n",
    "LABELS = [\"Normal\", \"Fraude\"]"
   ]
  },
  {
   "cell_type": "code",
   "execution_count": 3,
   "metadata": {},
   "outputs": [
    {
     "name": "stdout",
     "output_type": "stream",
     "text": [
      "Author: Análise de fraudes em transações com cartões de crédito\n",
      "\n",
      "numpy     : 1.22.2\n",
      "sys       : 3.9.7 (default, Sep 16 2021, 16:59:28) [MSC v.1916 64 bit (AMD64)]\n",
      "tqdm      : 4.63.0\n",
      "seaborn   : 0.11.2\n",
      "tensorflow: 2.8.0\n",
      "matplotlib: 3.5.1\n",
      "pandas    : 1.4.1\n",
      "\n"
     ]
    }
   ],
   "source": [
    "%reload_ext watermark\n",
    "%watermark -a \"Análise de fraudes em transações com cartões de crédito\" --iversions"
   ]
  },
  {
   "cell_type": "markdown",
   "metadata": {},
   "source": [
    "## Dataset\n",
    "\n",
    "Para modelar nosso sistema de análise de transações fraldulentas vamos utilizar um dataset público disponível no Kaggle:\n",
    "\n",
    "https://www.kaggle.com/mlg-ulb/creditcardfraud\n",
    "\n",
    "O dataset possui um total de 31 colunas. Sendo 28 colunas com valores numérico/decimal, obtidos através do processo de PCA - afim de proteger as identidades e recursos confidencias, e outras 3 colunas, sendo: Número de segundos entre a primeira transação do dataset e a atual, O valor da transação e a classe."
   ]
  },
  {
   "cell_type": "code",
   "execution_count": 4,
   "metadata": {},
   "outputs": [
    {
     "data": {
      "text/html": [
       "<div>\n",
       "<style scoped>\n",
       "    .dataframe tbody tr th:only-of-type {\n",
       "        vertical-align: middle;\n",
       "    }\n",
       "\n",
       "    .dataframe tbody tr th {\n",
       "        vertical-align: top;\n",
       "    }\n",
       "\n",
       "    .dataframe thead th {\n",
       "        text-align: right;\n",
       "    }\n",
       "</style>\n",
       "<table border=\"1\" class=\"dataframe\">\n",
       "  <thead>\n",
       "    <tr style=\"text-align: right;\">\n",
       "      <th></th>\n",
       "      <th>Time</th>\n",
       "      <th>V1</th>\n",
       "      <th>V2</th>\n",
       "      <th>V3</th>\n",
       "      <th>V4</th>\n",
       "      <th>V5</th>\n",
       "      <th>V6</th>\n",
       "      <th>V7</th>\n",
       "      <th>V8</th>\n",
       "      <th>V9</th>\n",
       "      <th>...</th>\n",
       "      <th>V21</th>\n",
       "      <th>V22</th>\n",
       "      <th>V23</th>\n",
       "      <th>V24</th>\n",
       "      <th>V25</th>\n",
       "      <th>V26</th>\n",
       "      <th>V27</th>\n",
       "      <th>V28</th>\n",
       "      <th>Amount</th>\n",
       "      <th>Class</th>\n",
       "    </tr>\n",
       "  </thead>\n",
       "  <tbody>\n",
       "    <tr>\n",
       "      <th>0</th>\n",
       "      <td>0.0</td>\n",
       "      <td>-1.359807</td>\n",
       "      <td>-0.072781</td>\n",
       "      <td>2.536347</td>\n",
       "      <td>1.378155</td>\n",
       "      <td>-0.338321</td>\n",
       "      <td>0.462388</td>\n",
       "      <td>0.239599</td>\n",
       "      <td>0.098698</td>\n",
       "      <td>0.363787</td>\n",
       "      <td>...</td>\n",
       "      <td>-0.018307</td>\n",
       "      <td>0.277838</td>\n",
       "      <td>-0.110474</td>\n",
       "      <td>0.066928</td>\n",
       "      <td>0.128539</td>\n",
       "      <td>-0.189115</td>\n",
       "      <td>0.133558</td>\n",
       "      <td>-0.021053</td>\n",
       "      <td>149.62</td>\n",
       "      <td>0</td>\n",
       "    </tr>\n",
       "    <tr>\n",
       "      <th>1</th>\n",
       "      <td>0.0</td>\n",
       "      <td>1.191857</td>\n",
       "      <td>0.266151</td>\n",
       "      <td>0.166480</td>\n",
       "      <td>0.448154</td>\n",
       "      <td>0.060018</td>\n",
       "      <td>-0.082361</td>\n",
       "      <td>-0.078803</td>\n",
       "      <td>0.085102</td>\n",
       "      <td>-0.255425</td>\n",
       "      <td>...</td>\n",
       "      <td>-0.225775</td>\n",
       "      <td>-0.638672</td>\n",
       "      <td>0.101288</td>\n",
       "      <td>-0.339846</td>\n",
       "      <td>0.167170</td>\n",
       "      <td>0.125895</td>\n",
       "      <td>-0.008983</td>\n",
       "      <td>0.014724</td>\n",
       "      <td>2.69</td>\n",
       "      <td>0</td>\n",
       "    </tr>\n",
       "    <tr>\n",
       "      <th>2</th>\n",
       "      <td>1.0</td>\n",
       "      <td>-1.358354</td>\n",
       "      <td>-1.340163</td>\n",
       "      <td>1.773209</td>\n",
       "      <td>0.379780</td>\n",
       "      <td>-0.503198</td>\n",
       "      <td>1.800499</td>\n",
       "      <td>0.791461</td>\n",
       "      <td>0.247676</td>\n",
       "      <td>-1.514654</td>\n",
       "      <td>...</td>\n",
       "      <td>0.247998</td>\n",
       "      <td>0.771679</td>\n",
       "      <td>0.909412</td>\n",
       "      <td>-0.689281</td>\n",
       "      <td>-0.327642</td>\n",
       "      <td>-0.139097</td>\n",
       "      <td>-0.055353</td>\n",
       "      <td>-0.059752</td>\n",
       "      <td>378.66</td>\n",
       "      <td>0</td>\n",
       "    </tr>\n",
       "    <tr>\n",
       "      <th>3</th>\n",
       "      <td>1.0</td>\n",
       "      <td>-0.966272</td>\n",
       "      <td>-0.185226</td>\n",
       "      <td>1.792993</td>\n",
       "      <td>-0.863291</td>\n",
       "      <td>-0.010309</td>\n",
       "      <td>1.247203</td>\n",
       "      <td>0.237609</td>\n",
       "      <td>0.377436</td>\n",
       "      <td>-1.387024</td>\n",
       "      <td>...</td>\n",
       "      <td>-0.108300</td>\n",
       "      <td>0.005274</td>\n",
       "      <td>-0.190321</td>\n",
       "      <td>-1.175575</td>\n",
       "      <td>0.647376</td>\n",
       "      <td>-0.221929</td>\n",
       "      <td>0.062723</td>\n",
       "      <td>0.061458</td>\n",
       "      <td>123.50</td>\n",
       "      <td>0</td>\n",
       "    </tr>\n",
       "    <tr>\n",
       "      <th>4</th>\n",
       "      <td>2.0</td>\n",
       "      <td>-1.158233</td>\n",
       "      <td>0.877737</td>\n",
       "      <td>1.548718</td>\n",
       "      <td>0.403034</td>\n",
       "      <td>-0.407193</td>\n",
       "      <td>0.095921</td>\n",
       "      <td>0.592941</td>\n",
       "      <td>-0.270533</td>\n",
       "      <td>0.817739</td>\n",
       "      <td>...</td>\n",
       "      <td>-0.009431</td>\n",
       "      <td>0.798278</td>\n",
       "      <td>-0.137458</td>\n",
       "      <td>0.141267</td>\n",
       "      <td>-0.206010</td>\n",
       "      <td>0.502292</td>\n",
       "      <td>0.219422</td>\n",
       "      <td>0.215153</td>\n",
       "      <td>69.99</td>\n",
       "      <td>0</td>\n",
       "    </tr>\n",
       "  </tbody>\n",
       "</table>\n",
       "<p>5 rows × 31 columns</p>\n",
       "</div>"
      ],
      "text/plain": [
       "   Time        V1        V2        V3        V4        V5        V6        V7  \\\n",
       "0   0.0 -1.359807 -0.072781  2.536347  1.378155 -0.338321  0.462388  0.239599   \n",
       "1   0.0  1.191857  0.266151  0.166480  0.448154  0.060018 -0.082361 -0.078803   \n",
       "2   1.0 -1.358354 -1.340163  1.773209  0.379780 -0.503198  1.800499  0.791461   \n",
       "3   1.0 -0.966272 -0.185226  1.792993 -0.863291 -0.010309  1.247203  0.237609   \n",
       "4   2.0 -1.158233  0.877737  1.548718  0.403034 -0.407193  0.095921  0.592941   \n",
       "\n",
       "         V8        V9  ...       V21       V22       V23       V24       V25  \\\n",
       "0  0.098698  0.363787  ... -0.018307  0.277838 -0.110474  0.066928  0.128539   \n",
       "1  0.085102 -0.255425  ... -0.225775 -0.638672  0.101288 -0.339846  0.167170   \n",
       "2  0.247676 -1.514654  ...  0.247998  0.771679  0.909412 -0.689281 -0.327642   \n",
       "3  0.377436 -1.387024  ... -0.108300  0.005274 -0.190321 -1.175575  0.647376   \n",
       "4 -0.270533  0.817739  ... -0.009431  0.798278 -0.137458  0.141267 -0.206010   \n",
       "\n",
       "        V26       V27       V28  Amount  Class  \n",
       "0 -0.189115  0.133558 -0.021053  149.62      0  \n",
       "1  0.125895 -0.008983  0.014724    2.69      0  \n",
       "2 -0.139097 -0.055353 -0.059752  378.66      0  \n",
       "3 -0.221929  0.062723  0.061458  123.50      0  \n",
       "4  0.502292  0.219422  0.215153   69.99      0  \n",
       "\n",
       "[5 rows x 31 columns]"
      ]
     },
     "execution_count": 4,
     "metadata": {},
     "output_type": "execute_result"
    }
   ],
   "source": [
    "df = pd.read_csv('./data/creditcard.csv', sep=',')\n",
    "df.head()"
   ]
  },
  {
   "cell_type": "markdown",
   "metadata": {},
   "source": [
    "## Análise do dataset\n",
    "\n",
    "Vamos analisar o dataset e identicar as caracteristicas das transações desse dataset"
   ]
  },
  {
   "cell_type": "code",
   "execution_count": 5,
   "metadata": {},
   "outputs": [
    {
     "data": {
      "image/png": "[encoded data removed]",
      "text/plain": [
       "<Figure size 1008x576 with 1 Axes>"
      ]
     },
     "metadata": {},
     "output_type": "display_data"
    }
   ],
   "source": [
    "qtd_class = pd.value_counts(df['Class'], sort = True)\n",
    "plt.title(\"Distribuição\")\n",
    "ax = sns.barplot(x=qtd_class.keys(), y=qtd_class.values)\n",
    "\n",
    "for p in ax.patches:\n",
    "    percent = '{:.1f}%'.format(100 * p.get_height()/len(df))\n",
    "    x = p.get_x() + p.get_width() / 2 - 0.05\n",
    "    y = p.get_y() + p.get_height()\n",
    "    ax.annotate(percent, (x, y), size=12)\n",
    "\n",
    "ax.set_xticks(range(len(LABELS)), LABELS)\n",
    "ax.set_xlabel(\"Classe\")\n",
    "ax.set_ylabel(\"Quantidade\")\n",
    "plt.show()"
   ]
  },
  {
   "cell_type": "markdown",
   "metadata": {},
   "source": [
    "Vamos criar uma coluna de data/tempo para poder colocar nososs registros dentro de uma time series"
   ]
  },
  {
   "cell_type": "code",
   "execution_count": 6,
   "metadata": {},
   "outputs": [
    {
     "data": {
      "text/plain": [
       "datetime.datetime(2013, 9, 1, 8, 0)"
      ]
     },
     "execution_count": 6,
     "metadata": {},
     "output_type": "execute_result"
    }
   ],
   "source": [
    "data_base = dt.datetime(2013, 9, 1, 8, 0, 0)\n",
    "data_base"
   ]
  },
  {
   "cell_type": "code",
   "execution_count": 7,
   "metadata": {},
   "outputs": [],
   "source": [
    "df['Data'] = df['Time'].apply(lambda x: data_base + dt.timedelta(seconds=x))"
   ]
  },
  {
   "cell_type": "code",
   "execution_count": 8,
   "metadata": {},
   "outputs": [
    {
     "data": {
      "text/plain": [
       "0        2013-09-01 08:00:00\n",
       "1        2013-09-01 08:00:00\n",
       "2        2013-09-01 08:00:01\n",
       "3        2013-09-01 08:00:01\n",
       "4        2013-09-01 08:00:02\n",
       "                 ...        \n",
       "284802   2013-09-03 07:59:46\n",
       "284803   2013-09-03 07:59:47\n",
       "284804   2013-09-03 07:59:48\n",
       "284805   2013-09-03 07:59:48\n",
       "284806   2013-09-03 07:59:52\n",
       "Name: Data, Length: 284807, dtype: datetime64[ns]"
      ]
     },
     "execution_count": 8,
     "metadata": {},
     "output_type": "execute_result"
    }
   ],
   "source": [
    "df['Data']"
   ]
  },
  {
   "cell_type": "code",
   "execution_count": 9,
   "metadata": {},
   "outputs": [],
   "source": [
    "normal = df[df['Class'] == 0].copy()\n",
    "fraude = df[df['Class'] == 1].copy()"
   ]
  },
  {
   "cell_type": "code",
   "execution_count": 10,
   "metadata": {},
   "outputs": [
    {
     "name": "stdout",
     "output_type": "stream",
     "text": [
      "Quantidade de registros normais:  284315\n",
      "Quantidade de registros fraldados:  492\n"
     ]
    }
   ],
   "source": [
    "print('Quantidade de registros normais: ', len(df[df['Class'] == 0]))\n",
    "print('Quantidade de registros fraldados: ', len(df[df['Class'] == 1]))"
   ]
  },
  {
   "cell_type": "markdown",
   "metadata": {},
   "source": [
    "Vamos visualizar a distribuição dos dados"
   ]
  },
  {
   "cell_type": "code",
   "execution_count": 11,
   "metadata": {},
   "outputs": [
    {
     "data": {
      "text/html": [
       "<div>\n",
       "<style scoped>\n",
       "    .dataframe tbody tr th:only-of-type {\n",
       "        vertical-align: middle;\n",
       "    }\n",
       "\n",
       "    .dataframe tbody tr th {\n",
       "        vertical-align: top;\n",
       "    }\n",
       "\n",
       "    .dataframe thead th {\n",
       "        text-align: right;\n",
       "    }\n",
       "</style>\n",
       "<table border=\"1\" class=\"dataframe\">\n",
       "  <thead>\n",
       "    <tr style=\"text-align: right;\">\n",
       "      <th></th>\n",
       "      <th>Time</th>\n",
       "      <th>V1</th>\n",
       "      <th>V2</th>\n",
       "      <th>V3</th>\n",
       "      <th>V4</th>\n",
       "      <th>V5</th>\n",
       "      <th>V6</th>\n",
       "      <th>V7</th>\n",
       "      <th>V8</th>\n",
       "      <th>V9</th>\n",
       "      <th>...</th>\n",
       "      <th>V21</th>\n",
       "      <th>V22</th>\n",
       "      <th>V23</th>\n",
       "      <th>V24</th>\n",
       "      <th>V25</th>\n",
       "      <th>V26</th>\n",
       "      <th>V27</th>\n",
       "      <th>V28</th>\n",
       "      <th>Amount</th>\n",
       "      <th>Class</th>\n",
       "    </tr>\n",
       "  </thead>\n",
       "  <tbody>\n",
       "    <tr>\n",
       "      <th>count</th>\n",
       "      <td>284807.000000</td>\n",
       "      <td>2.848070e+05</td>\n",
       "      <td>2.848070e+05</td>\n",
       "      <td>2.848070e+05</td>\n",
       "      <td>2.848070e+05</td>\n",
       "      <td>2.848070e+05</td>\n",
       "      <td>2.848070e+05</td>\n",
       "      <td>2.848070e+05</td>\n",
       "      <td>2.848070e+05</td>\n",
       "      <td>2.848070e+05</td>\n",
       "      <td>...</td>\n",
       "      <td>2.848070e+05</td>\n",
       "      <td>2.848070e+05</td>\n",
       "      <td>2.848070e+05</td>\n",
       "      <td>2.848070e+05</td>\n",
       "      <td>2.848070e+05</td>\n",
       "      <td>2.848070e+05</td>\n",
       "      <td>2.848070e+05</td>\n",
       "      <td>2.848070e+05</td>\n",
       "      <td>284807.000000</td>\n",
       "      <td>284807.000000</td>\n",
       "    </tr>\n",
       "    <tr>\n",
       "      <th>mean</th>\n",
       "      <td>94813.859575</td>\n",
       "      <td>1.168375e-15</td>\n",
       "      <td>3.416908e-16</td>\n",
       "      <td>-1.379537e-15</td>\n",
       "      <td>2.074095e-15</td>\n",
       "      <td>9.604066e-16</td>\n",
       "      <td>1.487313e-15</td>\n",
       "      <td>-5.556467e-16</td>\n",
       "      <td>1.213481e-16</td>\n",
       "      <td>-2.406331e-15</td>\n",
       "      <td>...</td>\n",
       "      <td>1.654067e-16</td>\n",
       "      <td>-3.568593e-16</td>\n",
       "      <td>2.578648e-16</td>\n",
       "      <td>4.473266e-15</td>\n",
       "      <td>5.340915e-16</td>\n",
       "      <td>1.683437e-15</td>\n",
       "      <td>-3.660091e-16</td>\n",
       "      <td>-1.227390e-16</td>\n",
       "      <td>88.349619</td>\n",
       "      <td>0.001727</td>\n",
       "    </tr>\n",
       "    <tr>\n",
       "      <th>std</th>\n",
       "      <td>47488.145955</td>\n",
       "      <td>1.958696e+00</td>\n",
       "      <td>1.651309e+00</td>\n",
       "      <td>1.516255e+00</td>\n",
       "      <td>1.415869e+00</td>\n",
       "      <td>1.380247e+00</td>\n",
       "      <td>1.332271e+00</td>\n",
       "      <td>1.237094e+00</td>\n",
       "      <td>1.194353e+00</td>\n",
       "      <td>1.098632e+00</td>\n",
       "      <td>...</td>\n",
       "      <td>7.345240e-01</td>\n",
       "      <td>7.257016e-01</td>\n",
       "      <td>6.244603e-01</td>\n",
       "      <td>6.056471e-01</td>\n",
       "      <td>5.212781e-01</td>\n",
       "      <td>4.822270e-01</td>\n",
       "      <td>4.036325e-01</td>\n",
       "      <td>3.300833e-01</td>\n",
       "      <td>250.120109</td>\n",
       "      <td>0.041527</td>\n",
       "    </tr>\n",
       "    <tr>\n",
       "      <th>min</th>\n",
       "      <td>0.000000</td>\n",
       "      <td>-5.640751e+01</td>\n",
       "      <td>-7.271573e+01</td>\n",
       "      <td>-4.832559e+01</td>\n",
       "      <td>-5.683171e+00</td>\n",
       "      <td>-1.137433e+02</td>\n",
       "      <td>-2.616051e+01</td>\n",
       "      <td>-4.355724e+01</td>\n",
       "      <td>-7.321672e+01</td>\n",
       "      <td>-1.343407e+01</td>\n",
       "      <td>...</td>\n",
       "      <td>-3.483038e+01</td>\n",
       "      <td>-1.093314e+01</td>\n",
       "      <td>-4.480774e+01</td>\n",
       "      <td>-2.836627e+00</td>\n",
       "      <td>-1.029540e+01</td>\n",
       "      <td>-2.604551e+00</td>\n",
       "      <td>-2.256568e+01</td>\n",
       "      <td>-1.543008e+01</td>\n",
       "      <td>0.000000</td>\n",
       "      <td>0.000000</td>\n",
       "    </tr>\n",
       "    <tr>\n",
       "      <th>25%</th>\n",
       "      <td>54201.500000</td>\n",
       "      <td>-9.203734e-01</td>\n",
       "      <td>-5.985499e-01</td>\n",
       "      <td>-8.903648e-01</td>\n",
       "      <td>-8.486401e-01</td>\n",
       "      <td>-6.915971e-01</td>\n",
       "      <td>-7.682956e-01</td>\n",
       "      <td>-5.540759e-01</td>\n",
       "      <td>-2.086297e-01</td>\n",
       "      <td>-6.430976e-01</td>\n",
       "      <td>...</td>\n",
       "      <td>-2.283949e-01</td>\n",
       "      <td>-5.423504e-01</td>\n",
       "      <td>-1.618463e-01</td>\n",
       "      <td>-3.545861e-01</td>\n",
       "      <td>-3.171451e-01</td>\n",
       "      <td>-3.269839e-01</td>\n",
       "      <td>-7.083953e-02</td>\n",
       "      <td>-5.295979e-02</td>\n",
       "      <td>5.600000</td>\n",
       "      <td>0.000000</td>\n",
       "    </tr>\n",
       "    <tr>\n",
       "      <th>50%</th>\n",
       "      <td>84692.000000</td>\n",
       "      <td>1.810880e-02</td>\n",
       "      <td>6.548556e-02</td>\n",
       "      <td>1.798463e-01</td>\n",
       "      <td>-1.984653e-02</td>\n",
       "      <td>-5.433583e-02</td>\n",
       "      <td>-2.741871e-01</td>\n",
       "      <td>4.010308e-02</td>\n",
       "      <td>2.235804e-02</td>\n",
       "      <td>-5.142873e-02</td>\n",
       "      <td>...</td>\n",
       "      <td>-2.945017e-02</td>\n",
       "      <td>6.781943e-03</td>\n",
       "      <td>-1.119293e-02</td>\n",
       "      <td>4.097606e-02</td>\n",
       "      <td>1.659350e-02</td>\n",
       "      <td>-5.213911e-02</td>\n",
       "      <td>1.342146e-03</td>\n",
       "      <td>1.124383e-02</td>\n",
       "      <td>22.000000</td>\n",
       "      <td>0.000000</td>\n",
       "    </tr>\n",
       "    <tr>\n",
       "      <th>75%</th>\n",
       "      <td>139320.500000</td>\n",
       "      <td>1.315642e+00</td>\n",
       "      <td>8.037239e-01</td>\n",
       "      <td>1.027196e+00</td>\n",
       "      <td>7.433413e-01</td>\n",
       "      <td>6.119264e-01</td>\n",
       "      <td>3.985649e-01</td>\n",
       "      <td>5.704361e-01</td>\n",
       "      <td>3.273459e-01</td>\n",
       "      <td>5.971390e-01</td>\n",
       "      <td>...</td>\n",
       "      <td>1.863772e-01</td>\n",
       "      <td>5.285536e-01</td>\n",
       "      <td>1.476421e-01</td>\n",
       "      <td>4.395266e-01</td>\n",
       "      <td>3.507156e-01</td>\n",
       "      <td>2.409522e-01</td>\n",
       "      <td>9.104512e-02</td>\n",
       "      <td>7.827995e-02</td>\n",
       "      <td>77.165000</td>\n",
       "      <td>0.000000</td>\n",
       "    </tr>\n",
       "    <tr>\n",
       "      <th>max</th>\n",
       "      <td>172792.000000</td>\n",
       "      <td>2.454930e+00</td>\n",
       "      <td>2.205773e+01</td>\n",
       "      <td>9.382558e+00</td>\n",
       "      <td>1.687534e+01</td>\n",
       "      <td>3.480167e+01</td>\n",
       "      <td>7.330163e+01</td>\n",
       "      <td>1.205895e+02</td>\n",
       "      <td>2.000721e+01</td>\n",
       "      <td>1.559499e+01</td>\n",
       "      <td>...</td>\n",
       "      <td>2.720284e+01</td>\n",
       "      <td>1.050309e+01</td>\n",
       "      <td>2.252841e+01</td>\n",
       "      <td>4.584549e+00</td>\n",
       "      <td>7.519589e+00</td>\n",
       "      <td>3.517346e+00</td>\n",
       "      <td>3.161220e+01</td>\n",
       "      <td>3.384781e+01</td>\n",
       "      <td>25691.160000</td>\n",
       "      <td>1.000000</td>\n",
       "    </tr>\n",
       "  </tbody>\n",
       "</table>\n",
       "<p>8 rows × 31 columns</p>\n",
       "</div>"
      ],
      "text/plain": [
       "                Time            V1            V2            V3            V4  \\\n",
       "count  284807.000000  2.848070e+05  2.848070e+05  2.848070e+05  2.848070e+05   \n",
       "mean    94813.859575  1.168375e-15  3.416908e-16 -1.379537e-15  2.074095e-15   \n",
       "std     47488.145955  1.958696e+00  1.651309e+00  1.516255e+00  1.415869e+00   \n",
       "min         0.000000 -5.640751e+01 -7.271573e+01 -4.832559e+01 -5.683171e+00   \n",
       "25%     54201.500000 -9.203734e-01 -5.985499e-01 -8.903648e-01 -8.486401e-01   \n",
       "50%     84692.000000  1.810880e-02  6.548556e-02  1.798463e-01 -1.984653e-02   \n",
       "75%    139320.500000  1.315642e+00  8.037239e-01  1.027196e+00  7.433413e-01   \n",
       "max    172792.000000  2.454930e+00  2.205773e+01  9.382558e+00  1.687534e+01   \n",
       "\n",
       "                 V5            V6            V7            V8            V9  \\\n",
       "count  2.848070e+05  2.848070e+05  2.848070e+05  2.848070e+05  2.848070e+05   \n",
       "mean   9.604066e-16  1.487313e-15 -5.556467e-16  1.213481e-16 -2.406331e-15   \n",
       "std    1.380247e+00  1.332271e+00  1.237094e+00  1.194353e+00  1.098632e+00   \n",
       "min   -1.137433e+02 -2.616051e+01 -4.355724e+01 -7.321672e+01 -1.343407e+01   \n",
       "25%   -6.915971e-01 -7.682956e-01 -5.540759e-01 -2.086297e-01 -6.430976e-01   \n",
       "50%   -5.433583e-02 -2.741871e-01  4.010308e-02  2.235804e-02 -5.142873e-02   \n",
       "75%    6.119264e-01  3.985649e-01  5.704361e-01  3.273459e-01  5.971390e-01   \n",
       "max    3.480167e+01  7.330163e+01  1.205895e+02  2.000721e+01  1.559499e+01   \n",
       "\n",
       "       ...           V21           V22           V23           V24  \\\n",
       "count  ...  2.848070e+05  2.848070e+05  2.848070e+05  2.848070e+05   \n",
       "mean   ...  1.654067e-16 -3.568593e-16  2.578648e-16  4.473266e-15   \n",
       "std    ...  7.345240e-01  7.257016e-01  6.244603e-01  6.056471e-01   \n",
       "min    ... -3.483038e+01 -1.093314e+01 -4.480774e+01 -2.836627e+00   \n",
       "25%    ... -2.283949e-01 -5.423504e-01 -1.618463e-01 -3.545861e-01   \n",
       "50%    ... -2.945017e-02  6.781943e-03 -1.119293e-02  4.097606e-02   \n",
       "75%    ...  1.863772e-01  5.285536e-01  1.476421e-01  4.395266e-01   \n",
       "max    ...  2.720284e+01  1.050309e+01  2.252841e+01  4.584549e+00   \n",
       "\n",
       "                V25           V26           V27           V28         Amount  \\\n",
       "count  2.848070e+05  2.848070e+05  2.848070e+05  2.848070e+05  284807.000000   \n",
       "mean   5.340915e-16  1.683437e-15 -3.660091e-16 -1.227390e-16      88.349619   \n",
       "std    5.212781e-01  4.822270e-01  4.036325e-01  3.300833e-01     250.120109   \n",
       "min   -1.029540e+01 -2.604551e+00 -2.256568e+01 -1.543008e+01       0.000000   \n",
       "25%   -3.171451e-01 -3.269839e-01 -7.083953e-02 -5.295979e-02       5.600000   \n",
       "50%    1.659350e-02 -5.213911e-02  1.342146e-03  1.124383e-02      22.000000   \n",
       "75%    3.507156e-01  2.409522e-01  9.104512e-02  7.827995e-02      77.165000   \n",
       "max    7.519589e+00  3.517346e+00  3.161220e+01  3.384781e+01   25691.160000   \n",
       "\n",
       "               Class  \n",
       "count  284807.000000  \n",
       "mean        0.001727  \n",
       "std         0.041527  \n",
       "min         0.000000  \n",
       "25%         0.000000  \n",
       "50%         0.000000  \n",
       "75%         0.000000  \n",
       "max         1.000000  \n",
       "\n",
       "[8 rows x 31 columns]"
      ]
     },
     "execution_count": 11,
     "metadata": {},
     "output_type": "execute_result"
    }
   ],
   "source": [
    "df.describe()"
   ]
  },
  {
   "cell_type": "code",
   "execution_count": 12,
   "metadata": {},
   "outputs": [
    {
     "data": {
      "image/png": "[encoded data removed]",
      "text/plain": [
       "<Figure size 1008x576 with 2 Axes>"
      ]
     },
     "metadata": {},
     "output_type": "display_data"
    }
   ],
   "source": [
    "fig, (ax1, ax2) = plt.subplots(2, 1, sharex = True)\n",
    "plt.suptitle('Dispersão dos dados entre Valor da transação e Data da operação')\n",
    "\n",
    "ax1.set_title('Normal')\n",
    "sns.scatterplot(data=normal, x='Data', y='Amount', ax=ax1)\n",
    "\n",
    "ax2.set_title('Fraude')\n",
    "sns.scatterplot(data=fraude, x='Data', y='Amount', ax=ax2, color='red')\n",
    "\n",
    "plt.xlabel('Data')\n",
    "plt.ylabel('Valor da transação')\n",
    "plt.tight_layout()\n",
    "plt.show()"
   ]
  },
  {
   "cell_type": "code",
   "execution_count": 13,
   "metadata": {},
   "outputs": [
    {
     "data": {
      "image/png": "[encoded data removed]",
      "text/plain": [
       "<Figure size 1008x576 with 2 Axes>"
      ]
     },
     "metadata": {},
     "output_type": "display_data"
    }
   ],
   "source": [
    "f, (ax1, ax2) = plt.subplots(2, 1, sharex = True)\n",
    "f.suptitle('Montante por transação por classe')\n",
    "\n",
    "bins = 50\n",
    "\n",
    "ax1.hist(fraude['Amount'], bins = bins)\n",
    "ax1.set_title('Fraude')\n",
    "\n",
    "ax2.hist(normal['Amount'], bins = bins)\n",
    "ax2.set_title('Normal')\n",
    "\n",
    "plt.xlabel('Total ($)')\n",
    "plt.ylabel('Número de Transações')\n",
    "plt.xlim((0, 20000))\n",
    "plt.yscale('log')\n",
    "plt.show()"
   ]
  },
  {
   "cell_type": "code",
   "execution_count": 14,
   "metadata": {},
   "outputs": [
    {
     "name": "stderr",
     "output_type": "stream",
     "text": [
      "C:\\Users\\angel\\AppData\\Local\\Temp\\ipykernel_96488\\4270737830.py:4: DeprecationWarning: `np.bool` is a deprecated alias for the builtin `bool`. To silence this warning, use `bool` by itself. Doing this will not modify any behavior and is safe. If you specifically wanted the numpy scalar type, use `np.bool_` here.\n",
      "Deprecated in NumPy 1.20; for more details and guidance: https://numpy.org/devdocs/release/1.20.0-notes.html#deprecations\n",
      "  mask = np.zeros_like(df.corr(), dtype=np.bool)\n"
     ]
    },
    {
     "data": {
      "image/png": "[encoded data removed]",
      "text/plain": [
       "<Figure size 864x576 with 2 Axes>"
      ]
     },
     "metadata": {},
     "output_type": "display_data"
    }
   ],
   "source": [
    "plt.figure(figsize=(12,8))\n",
    "plt.title('Correlação')\n",
    "\n",
    "mask = np.zeros_like(df.corr(), dtype=np.bool)\n",
    "mask[np.triu_indices_from(mask)]= True\n",
    "\n",
    "\n",
    "sns.heatmap(df.corr(), mask=mask, square=True, linewidths=0.5, cmap='viridis', vmin=-1, vmax=1, annot_kws={'size': 12})\n",
    "plt.show()"
   ]
  },
  {
   "cell_type": "markdown",
   "metadata": {},
   "source": [
    "Podemos notar que não existe uma correlação forte entre os dados."
   ]
  },
  {
   "cell_type": "markdown",
   "metadata": {},
   "source": [
    "## Modelagem dos dados\n"
   ]
  },
  {
   "cell_type": "markdown",
   "metadata": {},
   "source": [
    "Vamos remover a informação de `Time` do dataset pois esse dado não influenciará na previsão e vamos precisar padronizar o valor de `Amount` para que não haja diferença com base nos outros valores das demais features"
   ]
  },
  {
   "cell_type": "code",
   "execution_count": 15,
   "metadata": {},
   "outputs": [],
   "source": [
    "scaler = StandardScaler()\n",
    "scaler.fit(df['Amount'].values.reshape(-1, 1))\n",
    "\n",
    "normal['Amount'] = scaler.transform(normal['Amount'].values.reshape(-1,1))\n",
    "fraude['Amount'] = scaler.transform(fraude['Amount'].values.reshape(-1,1))"
   ]
  },
  {
   "cell_type": "code",
   "execution_count": 16,
   "metadata": {},
   "outputs": [],
   "source": [
    "normal.drop(columns=['Class', 'Time', 'Data'], inplace=True)\n",
    "fraude.drop(columns=['Class', 'Time', 'Data'], inplace=True)"
   ]
  },
  {
   "cell_type": "markdown",
   "metadata": {},
   "source": [
    "## Arquitetura do modelo\n",
    "\n",
    "Nosso dataset possui duas classes: Transação `Normal` e Transação com `Fraude`, no entanto essas classes possuem um desbalanceamento muito grande. Criar um modelo preditivo para classificação, com base em aprendizado supervisionado, não conseguirá identificar as caracteristicas da classe minoritária.\n",
    "\n",
    "Vamos utilizar um modelo baseado em Autoencoders, com aprendizado não-supervisioinado, para aprender as caracteristicas de transações normais e vamos utilizar do processo de reconstrução para identificar os registros com anomalias, uma vez que os registros com `Fraude` terão um erro de reconstrução maior devido ao modelo não \"conhecer\" essas caracteristicas que o definem como fraldulento.\n",
    "\n",
    "!['Autoencoder'](./images/autoencoders.png)\n",
    "\n",
    "<!-- Vamos utilizar junto ao autoencoder a arquitetura de LSTM para aprender sobre os dados ao passar do tempo.\n",
    "\n",
    "!['LSTM](./images/LSTM.png)-->"
   ]
  },
  {
   "cell_type": "markdown",
   "metadata": {},
   "source": [
    "Vamos dividir os dados em treino e teste para criar nosso modelo. Como vamos criar um modelo baseado em `autoencoders` e aprender as caracteristicas das transações válidas, vamos filtrar primeiramente apenas os registros com a classe `Normal` e dividi-los em sub-amostragens para treino e teste. Os registros com classe `Fraude` serão utilizadas apenas no processo de validação."
   ]
  },
  {
   "cell_type": "code",
   "execution_count": 17,
   "metadata": {},
   "outputs": [],
   "source": [
    "train, test = train_test_split(normal, test_size=0.2, random_state=RANDOM_SEED)\n",
    "test = pd.concat([test, fraude])\n",
    "\n",
    "train = train.iloc[np.random.permutation(len(train))]\n",
    "test = test.iloc[np.random.permutation(len(test))]"
   ]
  },
  {
   "cell_type": "code",
   "execution_count": 18,
   "metadata": {},
   "outputs": [
    {
     "name": "stdout",
     "output_type": "stream",
     "text": [
      "Treino:  (227452, 29)\n",
      "Test:  (57355, 29)\n"
     ]
    }
   ],
   "source": [
    "print('Treino: ', train.shape)\n",
    "print('Test: ', test.shape)"
   ]
  },
  {
   "cell_type": "markdown",
   "metadata": {},
   "source": [
    "Vamos agora criar as janelas para o processamento dos nossos dados."
   ]
  },
  {
   "cell_type": "code",
   "execution_count": 19,
   "metadata": {},
   "outputs": [
    {
     "name": "stdout",
     "output_type": "stream",
     "text": [
      "29\n"
     ]
    }
   ],
   "source": [
    "features = len(train.columns)\n",
    "print(features)\n",
    "# window_size, stride = 10, 10"
   ]
  },
  {
   "cell_type": "code",
   "execution_count": 20,
   "metadata": {},
   "outputs": [],
   "source": [
    "# def make_window(df, window_size, stride):\n",
    "#     array = []\n",
    "#     for i in tqdm.tqdm(range(0, len(df)-window_size + 1, stride)):\n",
    "#         array.append(df.iloc[i:i+window_size, :].to_numpy())\n",
    "#     return np.array(array)"
   ]
  },
  {
   "cell_type": "code",
   "execution_count": 21,
   "metadata": {},
   "outputs": [],
   "source": [
    "# train_window = make_window(train, window_size, stride)\n",
    "# test_window = make_window(test, window_size, stride)"
   ]
  },
  {
   "cell_type": "code",
   "execution_count": 22,
   "metadata": {},
   "outputs": [],
   "source": [
    "# print('Window train: ', train_window.shape)\n",
    "# print('Window test: ', test_window.shape)"
   ]
  },
  {
   "cell_type": "markdown",
   "metadata": {},
   "source": [
    "### Definição do modelo\n",
    "\n",
    "Vamos definir nosso modelo inicialmente criando a camada de encoder e posterior a camanda de decoder."
   ]
  },
  {
   "cell_type": "code",
   "execution_count": 23,
   "metadata": {},
   "outputs": [],
   "source": [
    "tf.keras.backend.clear_session()"
   ]
  },
  {
   "cell_type": "code",
   "execution_count": 24,
   "metadata": {},
   "outputs": [
    {
     "data": {
      "text/plain": [
       "[PhysicalDevice(name='/physical_device:GPU:0', device_type='GPU')]"
      ]
     },
     "execution_count": 24,
     "metadata": {},
     "output_type": "execute_result"
    }
   ],
   "source": [
    "tf.config.list_physical_devices('GPU')"
   ]
  },
  {
   "cell_type": "code",
   "execution_count": 25,
   "metadata": {},
   "outputs": [],
   "source": [
    "# encoder = Sequential([\n",
    "#     LSTM(80, input_shape=(window_size, features), return_sequences=True, activation='selu', dropout=0.2),\n",
    "#     LSTM(50, return_sequences=True, activation='selu', dropout=0.2),\n",
    "#     LSTM(30, return_sequences=True, activation='selu', dropout=0.2),\n",
    "#     LSTM(30, activation='selu'),\n",
    "# ], name='encoder')"
   ]
  },
  {
   "cell_type": "code",
   "execution_count": 26,
   "metadata": {},
   "outputs": [],
   "source": [
    "# decoder = Sequential([\n",
    "#     RepeatVector(window_size),\n",
    "#     LSTM(30, return_sequences=True, activation='selu'),\n",
    "#     LSTM(50, return_sequences=True, activation='selu'),\n",
    "#     LSTM(80, return_sequences=True, activation='selu'),\n",
    "#     TimeDistributed(Dense(features, activation='linear'))\n",
    "# ], name='decoder')"
   ]
  },
  {
   "cell_type": "code",
   "execution_count": 27,
   "metadata": {},
   "outputs": [
    {
     "name": "stdout",
     "output_type": "stream",
     "text": [
      "(29,)\n"
     ]
    }
   ],
   "source": [
    "input_shape = (train.shape[1],)\n",
    "print(input_shape)"
   ]
  },
  {
   "cell_type": "code",
   "execution_count": 38,
   "metadata": {},
   "outputs": [],
   "source": [
    "encoder = Sequential([\n",
    "    Dense(24, activation='selu', input_shape=input_shape),\n",
    "    Dense(12, activation='selu'),\n",
    "    Dense(6, activation='selu'),\n",
    "], name='encoding')\n",
    "\n",
    "decoder = Sequential([\n",
    "    Dense(6, activation='selu'),\n",
    "    Dense(12, activation='selu'),\n",
    "    Dense(24, activation='selu'),\n",
    "    Dense(train.shape[1], activation='linear')\n",
    "], name='decoding')"
   ]
  },
  {
   "cell_type": "code",
   "execution_count": 39,
   "metadata": {},
   "outputs": [],
   "source": [
    "model = Sequential([encoder, decoder], name='autoencoder')"
   ]
  },
  {
   "cell_type": "code",
   "execution_count": 40,
   "metadata": {},
   "outputs": [],
   "source": [
    "model.compile(optimizer = 'adam', loss = 'mean_squared_error', metrics=['accuracy'])"
   ]
  },
  {
   "cell_type": "code",
   "execution_count": 41,
   "metadata": {},
   "outputs": [
    {
     "name": "stdout",
     "output_type": "stream",
     "text": [
      "Model: \"autoencoder\"\n",
      "_________________________________________________________________\n",
      " Layer (type)                Output Shape              Param #   \n",
      "=================================================================\n",
      " encoding (Sequential)       (None, 6)                 1098      \n",
      "                                                                 \n",
      " decoding (Sequential)       (None, 29)                1163      \n",
      "                                                                 \n",
      "=================================================================\n",
      "Total params: 2,261\n",
      "Trainable params: 2,261\n",
      "Non-trainable params: 0\n",
      "_________________________________________________________________\n"
     ]
    }
   ],
   "source": [
    "model.summary()"
   ]
  },
  {
   "cell_type": "code",
   "execution_count": 42,
   "metadata": {},
   "outputs": [
    {
     "name": "stdout",
     "output_type": "stream",
     "text": [
      "Model: \"encoding\"\n",
      "_________________________________________________________________\n",
      " Layer (type)                Output Shape              Param #   \n",
      "=================================================================\n",
      " dense_7 (Dense)             (None, 24)                720       \n",
      "                                                                 \n",
      " dense_8 (Dense)             (None, 12)                300       \n",
      "                                                                 \n",
      " dense_9 (Dense)             (None, 6)                 78        \n",
      "                                                                 \n",
      "=================================================================\n",
      "Total params: 1,098\n",
      "Trainable params: 1,098\n",
      "Non-trainable params: 0\n",
      "_________________________________________________________________\n",
      "Model: \"decoding\"\n",
      "_________________________________________________________________\n",
      " Layer (type)                Output Shape              Param #   \n",
      "=================================================================\n",
      " dense_10 (Dense)            (None, 6)                 42        \n",
      "                                                                 \n",
      " dense_11 (Dense)            (None, 12)                84        \n",
      "                                                                 \n",
      " dense_12 (Dense)            (None, 24)                312       \n",
      "                                                                 \n",
      " dense_13 (Dense)            (None, 29)                725       \n",
      "                                                                 \n",
      "=================================================================\n",
      "Total params: 1,163\n",
      "Trainable params: 1,163\n",
      "Non-trainable params: 0\n",
      "_________________________________________________________________\n"
     ]
    },
    {
     "data": {
      "text/plain": [
       "(None, None)"
      ]
     },
     "execution_count": 42,
     "metadata": {},
     "output_type": "execute_result"
    }
   ],
   "source": [
    "encoder.summary(), decoder.summary()"
   ]
  },
  {
   "cell_type": "code",
   "execution_count": 44,
   "metadata": {},
   "outputs": [],
   "source": [
    "cp = ModelCheckpoint('./model/autoencoders-selu.h5', monitor='val_loss', save_best_only=True, mode='min', verbose=1)"
   ]
  },
  {
   "cell_type": "code",
   "execution_count": 45,
   "metadata": {},
   "outputs": [],
   "source": [
    "es = EarlyStopping(monitor='val_loss', patience=10, mode='min')"
   ]
  },
  {
   "cell_type": "code",
   "execution_count": 46,
   "metadata": {},
   "outputs": [
    {
     "name": "stdout",
     "output_type": "stream",
     "text": [
      "Epoch 1/100\n",
      "1323/1333 [============================>.] - ETA: 0s - loss: 0.6153 - accuracy: 0.5333\n",
      "Epoch 1: val_loss improved from inf to 0.44699, saving model to ./model\\autoencoders-selu.h5\n",
      "1333/1333 [==============================] - 8s 6ms/step - loss: 0.6141 - accuracy: 0.5338 - val_loss: 0.4470 - val_accuracy: 0.5932\n",
      "Epoch 2/100\n",
      "1325/1333 [============================>.] - ETA: 0s - loss: 0.4220 - accuracy: 0.6140\n",
      "Epoch 2: val_loss improved from 0.44699 to 0.38622, saving model to ./model\\autoencoders-selu.h5\n",
      "1333/1333 [==============================] - 7s 5ms/step - loss: 0.4222 - accuracy: 0.6138 - val_loss: 0.3862 - val_accuracy: 0.6167\n",
      "Epoch 3/100\n",
      "1325/1333 [============================>.] - ETA: 0s - loss: 0.3626 - accuracy: 0.6298\n",
      "Epoch 3: val_loss improved from 0.38622 to 0.33327, saving model to ./model\\autoencoders-selu.h5\n",
      "1333/1333 [==============================] - 7s 6ms/step - loss: 0.3624 - accuracy: 0.6299 - val_loss: 0.3333 - val_accuracy: 0.6345\n",
      "Epoch 4/100\n",
      "1329/1333 [============================>.] - ETA: 0s - loss: 0.3369 - accuracy: 0.6388\n",
      "Epoch 4: val_loss improved from 0.33327 to 0.32011, saving model to ./model\\autoencoders-selu.h5\n",
      "1333/1333 [==============================] - 7s 5ms/step - loss: 0.3369 - accuracy: 0.6389 - val_loss: 0.3201 - val_accuracy: 0.6377\n",
      "Epoch 5/100\n",
      "1331/1333 [============================>.] - ETA: 0s - loss: 0.3256 - accuracy: 0.6420\n",
      "Epoch 5: val_loss improved from 0.32011 to 0.31205, saving model to ./model\\autoencoders-selu.h5\n",
      "1333/1333 [==============================] - 7s 6ms/step - loss: 0.3256 - accuracy: 0.6420 - val_loss: 0.3121 - val_accuracy: 0.6382\n",
      "Epoch 6/100\n",
      "1326/1333 [============================>.] - ETA: 0s - loss: 0.3173 - accuracy: 0.6459\n",
      "Epoch 6: val_loss improved from 0.31205 to 0.30465, saving model to ./model\\autoencoders-selu.h5\n",
      "1333/1333 [==============================] - 7s 5ms/step - loss: 0.3172 - accuracy: 0.6458 - val_loss: 0.3046 - val_accuracy: 0.6429\n",
      "Epoch 7/100\n",
      "1331/1333 [============================>.] - ETA: 0s - loss: 0.3097 - accuracy: 0.6478\n",
      "Epoch 7: val_loss improved from 0.30465 to 0.29539, saving model to ./model\\autoencoders-selu.h5\n",
      "1333/1333 [==============================] - 7s 5ms/step - loss: 0.3096 - accuracy: 0.6478 - val_loss: 0.2954 - val_accuracy: 0.6457\n",
      "Epoch 8/100\n",
      "1332/1333 [============================>.] - ETA: 0s - loss: 0.3012 - accuracy: 0.6499\n",
      "Epoch 8: val_loss improved from 0.29539 to 0.28870, saving model to ./model\\autoencoders-selu.h5\n",
      "1333/1333 [==============================] - 7s 6ms/step - loss: 0.3011 - accuracy: 0.6499 - val_loss: 0.2887 - val_accuracy: 0.6475\n",
      "Epoch 9/100\n",
      "1329/1333 [============================>.] - ETA: 0s - loss: 0.2920 - accuracy: 0.6529\n",
      "Epoch 9: val_loss improved from 0.28870 to 0.27938, saving model to ./model\\autoencoders-selu.h5\n",
      "1333/1333 [==============================] - 7s 5ms/step - loss: 0.2920 - accuracy: 0.6529 - val_loss: 0.2794 - val_accuracy: 0.6501\n",
      "Epoch 10/100\n",
      "1322/1333 [============================>.] - ETA: 0s - loss: 0.2848 - accuracy: 0.6577\n",
      "Epoch 10: val_loss did not improve from 0.27938\n",
      "1333/1333 [==============================] - 7s 5ms/step - loss: 0.2850 - accuracy: 0.6577 - val_loss: 0.2897 - val_accuracy: 0.6415\n",
      "Epoch 11/100\n",
      "1325/1333 [============================>.] - ETA: 0s - loss: 0.2796 - accuracy: 0.6631\n",
      "Epoch 11: val_loss improved from 0.27938 to 0.26686, saving model to ./model\\autoencoders-selu.h5\n",
      "1333/1333 [==============================] - 7s 5ms/step - loss: 0.2795 - accuracy: 0.6633 - val_loss: 0.2669 - val_accuracy: 0.6665\n",
      "Epoch 12/100\n",
      "1325/1333 [============================>.] - ETA: 0s - loss: 0.2738 - accuracy: 0.6669\n",
      "Epoch 12: val_loss improved from 0.26686 to 0.26232, saving model to ./model\\autoencoders-selu.h5\n",
      "1333/1333 [==============================] - 7s 5ms/step - loss: 0.2737 - accuracy: 0.6670 - val_loss: 0.2623 - val_accuracy: 0.6637\n",
      "Epoch 13/100\n",
      "1325/1333 [============================>.] - ETA: 0s - loss: 0.2702 - accuracy: 0.6694\n",
      "Epoch 13: val_loss did not improve from 0.26232\n",
      "1333/1333 [==============================] - 7s 5ms/step - loss: 0.2704 - accuracy: 0.6692 - val_loss: 0.2694 - val_accuracy: 0.6646\n",
      "Epoch 14/100\n",
      "1327/1333 [============================>.] - ETA: 0s - loss: 0.2663 - accuracy: 0.6721\n",
      "Epoch 14: val_loss improved from 0.26232 to 0.25684, saving model to ./model\\autoencoders-selu.h5\n",
      "1333/1333 [==============================] - 7s 5ms/step - loss: 0.2663 - accuracy: 0.6720 - val_loss: 0.2568 - val_accuracy: 0.6756\n",
      "Epoch 15/100\n",
      "1330/1333 [============================>.] - ETA: 0s - loss: 0.2630 - accuracy: 0.6737\n",
      "Epoch 15: val_loss improved from 0.25684 to 0.25350, saving model to ./model\\autoencoders-selu.h5\n",
      "1333/1333 [==============================] - 7s 5ms/step - loss: 0.2630 - accuracy: 0.6736 - val_loss: 0.2535 - val_accuracy: 0.6765\n",
      "Epoch 16/100\n",
      "1328/1333 [============================>.] - ETA: 0s - loss: 0.2595 - accuracy: 0.6751\n",
      "Epoch 16: val_loss improved from 0.25350 to 0.24970, saving model to ./model\\autoencoders-selu.h5\n",
      "1333/1333 [==============================] - 7s 5ms/step - loss: 0.2595 - accuracy: 0.6751 - val_loss: 0.2497 - val_accuracy: 0.6751\n",
      "Epoch 17/100\n",
      "1333/1333 [==============================] - ETA: 0s - loss: 0.2562 - accuracy: 0.6769\n",
      "Epoch 17: val_loss did not improve from 0.24970\n",
      "1333/1333 [==============================] - 7s 6ms/step - loss: 0.2562 - accuracy: 0.6769 - val_loss: 0.2501 - val_accuracy: 0.6754\n",
      "Epoch 18/100\n",
      "1331/1333 [============================>.] - ETA: 0s - loss: 0.2521 - accuracy: 0.6788\n",
      "Epoch 18: val_loss improved from 0.24970 to 0.24164, saving model to ./model\\autoencoders-selu.h5\n",
      "1333/1333 [==============================] - 7s 5ms/step - loss: 0.2521 - accuracy: 0.6788 - val_loss: 0.2416 - val_accuracy: 0.6815\n",
      "Epoch 19/100\n",
      "1330/1333 [============================>.] - ETA: 0s - loss: 0.2489 - accuracy: 0.6806\n",
      "Epoch 19: val_loss did not improve from 0.24164\n",
      "1333/1333 [==============================] - 7s 5ms/step - loss: 0.2492 - accuracy: 0.6805 - val_loss: 0.2476 - val_accuracy: 0.6767\n",
      "Epoch 20/100\n",
      "1330/1333 [============================>.] - ETA: 0s - loss: 0.2464 - accuracy: 0.6822\n",
      "Epoch 20: val_loss improved from 0.24164 to 0.23677, saving model to ./model\\autoencoders-selu.h5\n",
      "1333/1333 [==============================] - 7s 5ms/step - loss: 0.2464 - accuracy: 0.6822 - val_loss: 0.2368 - val_accuracy: 0.6827\n",
      "Epoch 21/100\n",
      "1327/1333 [============================>.] - ETA: 0s - loss: 0.2424 - accuracy: 0.6846\n",
      "Epoch 21: val_loss improved from 0.23677 to 0.23538, saving model to ./model\\autoencoders-selu.h5\n",
      "1333/1333 [==============================] - 7s 5ms/step - loss: 0.2424 - accuracy: 0.6846 - val_loss: 0.2354 - val_accuracy: 0.6844\n",
      "Epoch 22/100\n",
      "1323/1333 [============================>.] - ETA: 0s - loss: 0.2405 - accuracy: 0.6861\n",
      "Epoch 22: val_loss improved from 0.23538 to 0.23046, saving model to ./model\\autoencoders-selu.h5\n",
      "1333/1333 [==============================] - 7s 6ms/step - loss: 0.2404 - accuracy: 0.6861 - val_loss: 0.2305 - val_accuracy: 0.6898\n",
      "Epoch 23/100\n",
      "1325/1333 [============================>.] - ETA: 0s - loss: 0.2377 - accuracy: 0.6888\n",
      "Epoch 23: val_loss improved from 0.23046 to 0.22800, saving model to ./model\\autoencoders-selu.h5\n",
      "1333/1333 [==============================] - 7s 5ms/step - loss: 0.2377 - accuracy: 0.6888 - val_loss: 0.2280 - val_accuracy: 0.6900\n",
      "Epoch 24/100\n",
      "1326/1333 [============================>.] - ETA: 0s - loss: 0.2351 - accuracy: 0.6897\n",
      "Epoch 24: val_loss improved from 0.22800 to 0.22713, saving model to ./model\\autoencoders-selu.h5\n",
      "1333/1333 [==============================] - 7s 5ms/step - loss: 0.2350 - accuracy: 0.6896 - val_loss: 0.2271 - val_accuracy: 0.6894\n",
      "Epoch 25/100\n",
      "1326/1333 [============================>.] - ETA: 0s - loss: 0.2330 - accuracy: 0.6903\n",
      "Epoch 25: val_loss improved from 0.22713 to 0.22376, saving model to ./model\\autoencoders-selu.h5\n",
      "1333/1333 [==============================] - 7s 5ms/step - loss: 0.2329 - accuracy: 0.6904 - val_loss: 0.2238 - val_accuracy: 0.6923\n",
      "Epoch 26/100\n",
      "1328/1333 [============================>.] - ETA: 0s - loss: 0.2307 - accuracy: 0.6916\n",
      "Epoch 26: val_loss improved from 0.22376 to 0.22087, saving model to ./model\\autoencoders-selu.h5\n",
      "1333/1333 [==============================] - 7s 5ms/step - loss: 0.2307 - accuracy: 0.6916 - val_loss: 0.2209 - val_accuracy: 0.6889\n",
      "Epoch 27/100\n",
      "1325/1333 [============================>.] - ETA: 0s - loss: 0.2290 - accuracy: 0.6920\n",
      "Epoch 27: val_loss did not improve from 0.22087\n",
      "1333/1333 [==============================] - 7s 5ms/step - loss: 0.2289 - accuracy: 0.6919 - val_loss: 0.2216 - val_accuracy: 0.6895\n",
      "Epoch 28/100\n",
      "1324/1333 [============================>.] - ETA: 0s - loss: 0.2270 - accuracy: 0.6941\n",
      "Epoch 28: val_loss improved from 0.22087 to 0.21953, saving model to ./model\\autoencoders-selu.h5\n",
      "1333/1333 [==============================] - 7s 5ms/step - loss: 0.2269 - accuracy: 0.6942 - val_loss: 0.2195 - val_accuracy: 0.6875\n",
      "Epoch 29/100\n",
      "1329/1333 [============================>.] - ETA: 0s - loss: 0.2249 - accuracy: 0.6946\n",
      "Epoch 29: val_loss did not improve from 0.21953\n",
      "1333/1333 [==============================] - 7s 5ms/step - loss: 0.2248 - accuracy: 0.6945 - val_loss: 0.2198 - val_accuracy: 0.6905\n",
      "Epoch 30/100\n",
      "1327/1333 [============================>.] - ETA: 0s - loss: 0.2243 - accuracy: 0.6957\n",
      "Epoch 30: val_loss did not improve from 0.21953\n",
      "1333/1333 [==============================] - 7s 5ms/step - loss: 0.2242 - accuracy: 0.6957 - val_loss: 0.2230 - val_accuracy: 0.6781\n",
      "Epoch 31/100\n",
      "1333/1333 [==============================] - ETA: 0s - loss: 0.2245 - accuracy: 0.6942\n",
      "Epoch 31: val_loss improved from 0.21953 to 0.21542, saving model to ./model\\autoencoders-selu.h5\n",
      "1333/1333 [==============================] - 7s 5ms/step - loss: 0.2245 - accuracy: 0.6942 - val_loss: 0.2154 - val_accuracy: 0.6923\n",
      "Epoch 32/100\n",
      "1330/1333 [============================>.] - ETA: 0s - loss: 0.2206 - accuracy: 0.6976\n",
      "Epoch 32: val_loss improved from 0.21542 to 0.21385, saving model to ./model\\autoencoders-selu.h5\n",
      "1333/1333 [==============================] - 7s 5ms/step - loss: 0.2206 - accuracy: 0.6976 - val_loss: 0.2138 - val_accuracy: 0.6963\n",
      "Epoch 33/100\n",
      "1323/1333 [============================>.] - ETA: 0s - loss: 0.2206 - accuracy: 0.6961\n",
      "Epoch 33: val_loss did not improve from 0.21385\n",
      "1333/1333 [==============================] - 7s 5ms/step - loss: 0.2205 - accuracy: 0.6962 - val_loss: 0.2140 - val_accuracy: 0.6945\n",
      "Epoch 34/100\n",
      "1328/1333 [============================>.] - ETA: 0s - loss: 0.2198 - accuracy: 0.6961\n",
      "Epoch 34: val_loss did not improve from 0.21385\n",
      "1333/1333 [==============================] - 7s 5ms/step - loss: 0.2199 - accuracy: 0.6960 - val_loss: 0.2312 - val_accuracy: 0.6771\n",
      "Epoch 35/100\n",
      "1329/1333 [============================>.] - ETA: 0s - loss: 0.2186 - accuracy: 0.6963\n",
      "Epoch 35: val_loss improved from 0.21385 to 0.21086, saving model to ./model\\autoencoders-selu.h5\n",
      "1333/1333 [==============================] - 7s 5ms/step - loss: 0.2185 - accuracy: 0.6962 - val_loss: 0.2109 - val_accuracy: 0.6913\n",
      "Epoch 36/100\n",
      "1333/1333 [==============================] - ETA: 0s - loss: 0.2180 - accuracy: 0.6973\n",
      "Epoch 36: val_loss did not improve from 0.21086\n",
      "1333/1333 [==============================] - 7s 6ms/step - loss: 0.2180 - accuracy: 0.6973 - val_loss: 0.2234 - val_accuracy: 0.6828\n",
      "Epoch 37/100\n",
      "1325/1333 [============================>.] - ETA: 0s - loss: 0.2185 - accuracy: 0.6951\n",
      "Epoch 37: val_loss improved from 0.21086 to 0.20865, saving model to ./model\\autoencoders-selu.h5\n",
      "1333/1333 [==============================] - 8s 6ms/step - loss: 0.2184 - accuracy: 0.6951 - val_loss: 0.2087 - val_accuracy: 0.6970\n",
      "Epoch 38/100\n",
      "1330/1333 [============================>.] - ETA: 0s - loss: 0.2165 - accuracy: 0.6964\n",
      "Epoch 38: val_loss improved from 0.20865 to 0.20831, saving model to ./model\\autoencoders-selu.h5\n",
      "1333/1333 [==============================] - 7s 5ms/step - loss: 0.2164 - accuracy: 0.6964 - val_loss: 0.2083 - val_accuracy: 0.6969\n",
      "Epoch 39/100\n",
      "1331/1333 [============================>.] - ETA: 0s - loss: 0.2156 - accuracy: 0.6976\n",
      "Epoch 39: val_loss improved from 0.20831 to 0.20774, saving model to ./model\\autoencoders-selu.h5\n",
      "1333/1333 [==============================] - 8s 6ms/step - loss: 0.2156 - accuracy: 0.6976 - val_loss: 0.2077 - val_accuracy: 0.6941\n",
      "Epoch 40/100\n",
      "1327/1333 [============================>.] - ETA: 0s - loss: 0.2152 - accuracy: 0.6978\n",
      "Epoch 40: val_loss improved from 0.20774 to 0.20731, saving model to ./model\\autoencoders-selu.h5\n",
      "1333/1333 [==============================] - 7s 5ms/step - loss: 0.2151 - accuracy: 0.6978 - val_loss: 0.2073 - val_accuracy: 0.6989\n",
      "Epoch 41/100\n",
      "1326/1333 [============================>.] - ETA: 0s - loss: 0.2146 - accuracy: 0.6989\n",
      "Epoch 41: val_loss improved from 0.20731 to 0.20570, saving model to ./model\\autoencoders-selu.h5\n",
      "1333/1333 [==============================] - 7s 5ms/step - loss: 0.2145 - accuracy: 0.6989 - val_loss: 0.2057 - val_accuracy: 0.6967\n",
      "Epoch 42/100\n",
      "1323/1333 [============================>.] - ETA: 0s - loss: 0.2140 - accuracy: 0.7003\n",
      "Epoch 42: val_loss did not improve from 0.20570\n",
      "1333/1333 [==============================] - 7s 5ms/step - loss: 0.2139 - accuracy: 0.7003 - val_loss: 0.2071 - val_accuracy: 0.6987\n",
      "Epoch 43/100\n",
      "1324/1333 [============================>.] - ETA: 0s - loss: 0.2139 - accuracy: 0.6998\n",
      "Epoch 43: val_loss did not improve from 0.20570\n",
      "1333/1333 [==============================] - 7s 5ms/step - loss: 0.2137 - accuracy: 0.6998 - val_loss: 0.2071 - val_accuracy: 0.7020\n",
      "Epoch 44/100\n",
      "1329/1333 [============================>.] - ETA: 0s - loss: 0.2130 - accuracy: 0.7003\n",
      "Epoch 44: val_loss did not improve from 0.20570\n",
      "1333/1333 [==============================] - 7s 6ms/step - loss: 0.2130 - accuracy: 0.7002 - val_loss: 0.2146 - val_accuracy: 0.6834\n",
      "Epoch 45/100\n",
      "1326/1333 [============================>.] - ETA: 0s - loss: 0.2130 - accuracy: 0.6999\n",
      "Epoch 45: val_loss did not improve from 0.20570\n",
      "1333/1333 [==============================] - 8s 6ms/step - loss: 0.2129 - accuracy: 0.6999 - val_loss: 0.2060 - val_accuracy: 0.6978\n",
      "Epoch 46/100\n",
      "1333/1333 [==============================] - ETA: 0s - loss: 0.2116 - accuracy: 0.7003\n",
      "Epoch 46: val_loss did not improve from 0.20570\n",
      "1333/1333 [==============================] - 7s 5ms/step - loss: 0.2116 - accuracy: 0.7003 - val_loss: 0.2058 - val_accuracy: 0.7033\n",
      "Epoch 47/100\n",
      "1328/1333 [============================>.] - ETA: 0s - loss: 0.2114 - accuracy: 0.7000\n",
      "Epoch 47: val_loss did not improve from 0.20570\n",
      "1333/1333 [==============================] - 7s 5ms/step - loss: 0.2114 - accuracy: 0.7001 - val_loss: 0.2060 - val_accuracy: 0.6989\n",
      "Epoch 48/100\n",
      "1331/1333 [============================>.] - ETA: 0s - loss: 0.2112 - accuracy: 0.7011\n",
      "Epoch 48: val_loss improved from 0.20570 to 0.20314, saving model to ./model\\autoencoders-selu.h5\n",
      "1333/1333 [==============================] - 7s 5ms/step - loss: 0.2112 - accuracy: 0.7011 - val_loss: 0.2031 - val_accuracy: 0.6961\n",
      "Epoch 49/100\n",
      "1333/1333 [==============================] - ETA: 0s - loss: 0.2110 - accuracy: 0.7009\n",
      "Epoch 49: val_loss did not improve from 0.20314\n",
      "1333/1333 [==============================] - 7s 5ms/step - loss: 0.2110 - accuracy: 0.7009 - val_loss: 0.2099 - val_accuracy: 0.6902\n",
      "Epoch 50/100\n",
      "1324/1333 [============================>.] - ETA: 0s - loss: 0.2091 - accuracy: 0.7014\n",
      "Epoch 50: val_loss did not improve from 0.20314\n",
      "1333/1333 [==============================] - 7s 5ms/step - loss: 0.2094 - accuracy: 0.7013 - val_loss: 0.2048 - val_accuracy: 0.6960\n",
      "Epoch 51/100\n",
      "1332/1333 [============================>.] - ETA: 0s - loss: 0.2093 - accuracy: 0.7021\n",
      "Epoch 51: val_loss did not improve from 0.20314\n",
      "1333/1333 [==============================] - 7s 5ms/step - loss: 0.2093 - accuracy: 0.7020 - val_loss: 0.2163 - val_accuracy: 0.6855\n",
      "Epoch 52/100\n",
      "1326/1333 [============================>.] - ETA: 0s - loss: 0.2092 - accuracy: 0.7014\n",
      "Epoch 52: val_loss improved from 0.20314 to 0.20097, saving model to ./model\\autoencoders-selu.h5\n",
      "1333/1333 [==============================] - 7s 5ms/step - loss: 0.2092 - accuracy: 0.7015 - val_loss: 0.2010 - val_accuracy: 0.7052\n",
      "Epoch 53/100\n",
      "1328/1333 [============================>.] - ETA: 0s - loss: 0.2083 - accuracy: 0.7026\n",
      "Epoch 53: val_loss did not improve from 0.20097\n",
      "1333/1333 [==============================] - 7s 5ms/step - loss: 0.2085 - accuracy: 0.7026 - val_loss: 0.2062 - val_accuracy: 0.6963\n",
      "Epoch 54/100\n",
      "1324/1333 [============================>.] - ETA: 0s - loss: 0.2087 - accuracy: 0.7021\n",
      "Epoch 54: val_loss improved from 0.20097 to 0.20005, saving model to ./model\\autoencoders-selu.h5\n",
      "1333/1333 [==============================] - 7s 5ms/step - loss: 0.2086 - accuracy: 0.7020 - val_loss: 0.2001 - val_accuracy: 0.7032\n",
      "Epoch 55/100\n",
      "1333/1333 [==============================] - ETA: 0s - loss: 0.2082 - accuracy: 0.7017\n",
      "Epoch 55: val_loss did not improve from 0.20005\n",
      "1333/1333 [==============================] - 7s 5ms/step - loss: 0.2082 - accuracy: 0.7017 - val_loss: 0.2110 - val_accuracy: 0.6980\n",
      "Epoch 56/100\n",
      "1329/1333 [============================>.] - ETA: 0s - loss: 0.2074 - accuracy: 0.7028\n",
      "Epoch 56: val_loss did not improve from 0.20005\n",
      "1333/1333 [==============================] - 7s 5ms/step - loss: 0.2076 - accuracy: 0.7029 - val_loss: 0.2031 - val_accuracy: 0.7006\n",
      "Epoch 57/100\n",
      "1331/1333 [============================>.] - ETA: 0s - loss: 0.2077 - accuracy: 0.7025\n",
      "Epoch 57: val_loss did not improve from 0.20005\n",
      "1333/1333 [==============================] - 7s 5ms/step - loss: 0.2077 - accuracy: 0.7026 - val_loss: 0.2044 - val_accuracy: 0.6952\n",
      "Epoch 58/100\n",
      "1331/1333 [============================>.] - ETA: 0s - loss: 0.2068 - accuracy: 0.7028\n",
      "Epoch 58: val_loss did not improve from 0.20005\n",
      "1333/1333 [==============================] - 7s 5ms/step - loss: 0.2068 - accuracy: 0.7027 - val_loss: 0.2039 - val_accuracy: 0.6865\n",
      "Epoch 59/100\n",
      "1323/1333 [============================>.] - ETA: 0s - loss: 0.2066 - accuracy: 0.7027\n",
      "Epoch 59: val_loss did not improve from 0.20005\n",
      "1333/1333 [==============================] - 7s 5ms/step - loss: 0.2066 - accuracy: 0.7027 - val_loss: 0.2022 - val_accuracy: 0.7001\n",
      "Epoch 60/100\n",
      "1327/1333 [============================>.] - ETA: 0s - loss: 0.2065 - accuracy: 0.7028\n",
      "Epoch 60: val_loss improved from 0.20005 to 0.19898, saving model to ./model\\autoencoders-selu.h5\n",
      "1333/1333 [==============================] - 7s 5ms/step - loss: 0.2064 - accuracy: 0.7029 - val_loss: 0.1990 - val_accuracy: 0.7006\n",
      "Epoch 61/100\n",
      "1324/1333 [============================>.] - ETA: 0s - loss: 0.2062 - accuracy: 0.7026\n",
      "Epoch 61: val_loss did not improve from 0.19898\n",
      "1333/1333 [==============================] - 7s 5ms/step - loss: 0.2062 - accuracy: 0.7027 - val_loss: 0.2010 - val_accuracy: 0.7042\n",
      "Epoch 62/100\n",
      "1328/1333 [============================>.] - ETA: 0s - loss: 0.2063 - accuracy: 0.7020\n",
      "Epoch 62: val_loss did not improve from 0.19898\n",
      "1333/1333 [==============================] - 7s 5ms/step - loss: 0.2063 - accuracy: 0.7021 - val_loss: 0.2005 - val_accuracy: 0.7042\n",
      "Epoch 63/100\n",
      "1324/1333 [============================>.] - ETA: 0s - loss: 0.2059 - accuracy: 0.7030\n",
      "Epoch 63: val_loss improved from 0.19898 to 0.19772, saving model to ./model\\autoencoders-selu.h5\n",
      "1333/1333 [==============================] - 7s 5ms/step - loss: 0.2057 - accuracy: 0.7030 - val_loss: 0.1977 - val_accuracy: 0.7035\n",
      "Epoch 64/100\n",
      "1324/1333 [============================>.] - ETA: 0s - loss: 0.2063 - accuracy: 0.7035\n",
      "Epoch 64: val_loss did not improve from 0.19772\n",
      "1333/1333 [==============================] - 7s 5ms/step - loss: 0.2063 - accuracy: 0.7033 - val_loss: 0.1992 - val_accuracy: 0.7044\n",
      "Epoch 65/100\n",
      "1333/1333 [==============================] - ETA: 0s - loss: 0.2050 - accuracy: 0.7036\n",
      "Epoch 65: val_loss did not improve from 0.19772\n",
      "1333/1333 [==============================] - 7s 5ms/step - loss: 0.2050 - accuracy: 0.7036 - val_loss: 0.1998 - val_accuracy: 0.7015\n",
      "Epoch 66/100\n",
      "1332/1333 [============================>.] - ETA: 0s - loss: 0.2051 - accuracy: 0.7029\n",
      "Epoch 66: val_loss did not improve from 0.19772\n",
      "1333/1333 [==============================] - 7s 5ms/step - loss: 0.2050 - accuracy: 0.7029 - val_loss: 0.2092 - val_accuracy: 0.6879\n",
      "Epoch 67/100\n",
      "1330/1333 [============================>.] - ETA: 0s - loss: 0.2049 - accuracy: 0.7023\n",
      "Epoch 67: val_loss did not improve from 0.19772\n",
      "1333/1333 [==============================] - 7s 5ms/step - loss: 0.2049 - accuracy: 0.7024 - val_loss: 0.1996 - val_accuracy: 0.7028\n",
      "Epoch 68/100\n",
      "1331/1333 [============================>.] - ETA: 0s - loss: 0.2045 - accuracy: 0.7035\n",
      "Epoch 68: val_loss did not improve from 0.19772\n",
      "1333/1333 [==============================] - 7s 5ms/step - loss: 0.2045 - accuracy: 0.7035 - val_loss: 0.1981 - val_accuracy: 0.7057\n",
      "Epoch 69/100\n",
      "1329/1333 [============================>.] - ETA: 0s - loss: 0.2043 - accuracy: 0.7029\n",
      "Epoch 69: val_loss did not improve from 0.19772\n",
      "1333/1333 [==============================] - 7s 5ms/step - loss: 0.2044 - accuracy: 0.7029 - val_loss: 0.2137 - val_accuracy: 0.6828\n",
      "Epoch 70/100\n",
      "1331/1333 [============================>.] - ETA: 0s - loss: 0.2043 - accuracy: 0.7028\n",
      "Epoch 70: val_loss improved from 0.19772 to 0.19738, saving model to ./model\\autoencoders-selu.h5\n",
      "1333/1333 [==============================] - 7s 5ms/step - loss: 0.2043 - accuracy: 0.7027 - val_loss: 0.1974 - val_accuracy: 0.6968\n",
      "Epoch 71/100\n",
      "1327/1333 [============================>.] - ETA: 0s - loss: 0.2045 - accuracy: 0.7028\n",
      "Epoch 71: val_loss did not improve from 0.19738\n",
      "1333/1333 [==============================] - 7s 5ms/step - loss: 0.2044 - accuracy: 0.7028 - val_loss: 0.2022 - val_accuracy: 0.6903\n",
      "Epoch 72/100\n",
      "1323/1333 [============================>.] - ETA: 0s - loss: 0.2035 - accuracy: 0.7031\n",
      "Epoch 72: val_loss improved from 0.19738 to 0.19619, saving model to ./model\\autoencoders-selu.h5\n",
      "1333/1333 [==============================] - 7s 5ms/step - loss: 0.2035 - accuracy: 0.7032 - val_loss: 0.1962 - val_accuracy: 0.7005\n",
      "Epoch 73/100\n",
      "1329/1333 [============================>.] - ETA: 0s - loss: 0.2039 - accuracy: 0.7026\n",
      "Epoch 73: val_loss did not improve from 0.19619\n",
      "1333/1333 [==============================] - 7s 5ms/step - loss: 0.2039 - accuracy: 0.7027 - val_loss: 0.1969 - val_accuracy: 0.7012\n",
      "Epoch 74/100\n",
      "1327/1333 [============================>.] - ETA: 0s - loss: 0.2035 - accuracy: 0.7035\n",
      "Epoch 74: val_loss did not improve from 0.19619\n",
      "1333/1333 [==============================] - 7s 5ms/step - loss: 0.2034 - accuracy: 0.7036 - val_loss: 0.1967 - val_accuracy: 0.7037\n",
      "Epoch 75/100\n",
      "1326/1333 [============================>.] - ETA: 0s - loss: 0.2039 - accuracy: 0.7024\n",
      "Epoch 75: val_loss did not improve from 0.19619\n",
      "1333/1333 [==============================] - 7s 5ms/step - loss: 0.2038 - accuracy: 0.7024 - val_loss: 0.1962 - val_accuracy: 0.7049\n",
      "Epoch 76/100\n",
      "1328/1333 [============================>.] - ETA: 0s - loss: 0.2030 - accuracy: 0.7030\n",
      "Epoch 76: val_loss did not improve from 0.19619\n",
      "1333/1333 [==============================] - 7s 5ms/step - loss: 0.2030 - accuracy: 0.7030 - val_loss: 0.2018 - val_accuracy: 0.6989\n",
      "Epoch 77/100\n",
      "1323/1333 [============================>.] - ETA: 0s - loss: 0.2026 - accuracy: 0.7025\n",
      "Epoch 77: val_loss did not improve from 0.19619\n",
      "1333/1333 [==============================] - 7s 5ms/step - loss: 0.2027 - accuracy: 0.7026 - val_loss: 0.1991 - val_accuracy: 0.7087\n",
      "Epoch 78/100\n",
      "1327/1333 [============================>.] - ETA: 0s - loss: 0.2025 - accuracy: 0.7031\n",
      "Epoch 78: val_loss did not improve from 0.19619\n",
      "1333/1333 [==============================] - 7s 5ms/step - loss: 0.2028 - accuracy: 0.7029 - val_loss: 0.1970 - val_accuracy: 0.7038\n",
      "Epoch 79/100\n",
      "1330/1333 [============================>.] - ETA: 0s - loss: 0.2024 - accuracy: 0.7012\n",
      "Epoch 79: val_loss did not improve from 0.19619\n",
      "1333/1333 [==============================] - 7s 5ms/step - loss: 0.2024 - accuracy: 0.7012 - val_loss: 0.1965 - val_accuracy: 0.7052\n",
      "Epoch 80/100\n",
      "1331/1333 [============================>.] - ETA: 0s - loss: 0.2027 - accuracy: 0.7017\n",
      "Epoch 80: val_loss did not improve from 0.19619\n",
      "1333/1333 [==============================] - 7s 5ms/step - loss: 0.2026 - accuracy: 0.7017 - val_loss: 0.1963 - val_accuracy: 0.7060\n",
      "Epoch 81/100\n",
      "1326/1333 [============================>.] - ETA: 0s - loss: 0.2023 - accuracy: 0.7014\n",
      "Epoch 81: val_loss did not improve from 0.19619\n",
      "1333/1333 [==============================] - 7s 5ms/step - loss: 0.2023 - accuracy: 0.7015 - val_loss: 0.1973 - val_accuracy: 0.7015\n",
      "Epoch 82/100\n",
      "1329/1333 [============================>.] - ETA: 0s - loss: 0.2019 - accuracy: 0.7018\n",
      "Epoch 82: val_loss improved from 0.19619 to 0.19493, saving model to ./model\\autoencoders-selu.h5\n",
      "1333/1333 [==============================] - 7s 5ms/step - loss: 0.2019 - accuracy: 0.7019 - val_loss: 0.1949 - val_accuracy: 0.7016\n",
      "Epoch 83/100\n",
      "1328/1333 [============================>.] - ETA: 0s - loss: 0.2015 - accuracy: 0.7009\n",
      "Epoch 83: val_loss improved from 0.19493 to 0.19350, saving model to ./model\\autoencoders-selu.h5\n",
      "1333/1333 [==============================] - 7s 5ms/step - loss: 0.2014 - accuracy: 0.7009 - val_loss: 0.1935 - val_accuracy: 0.7002\n",
      "Epoch 84/100\n",
      "1324/1333 [============================>.] - ETA: 0s - loss: 0.2017 - accuracy: 0.7011\n",
      "Epoch 84: val_loss did not improve from 0.19350\n",
      "1333/1333 [==============================] - 7s 5ms/step - loss: 0.2016 - accuracy: 0.7010 - val_loss: 0.1976 - val_accuracy: 0.6987\n",
      "Epoch 85/100\n",
      "1323/1333 [============================>.] - ETA: 0s - loss: 0.2017 - accuracy: 0.6997\n",
      "Epoch 85: val_loss did not improve from 0.19350\n",
      "1333/1333 [==============================] - 7s 5ms/step - loss: 0.2016 - accuracy: 0.6997 - val_loss: 0.1938 - val_accuracy: 0.7011\n",
      "Epoch 86/100\n",
      "1324/1333 [============================>.] - ETA: 0s - loss: 0.2010 - accuracy: 0.7000\n",
      "Epoch 86: val_loss did not improve from 0.19350\n",
      "1333/1333 [==============================] - 7s 5ms/step - loss: 0.2009 - accuracy: 0.7000 - val_loss: 0.1967 - val_accuracy: 0.6974\n",
      "Epoch 87/100\n",
      "1331/1333 [============================>.] - ETA: 0s - loss: 0.2004 - accuracy: 0.6993\n",
      "Epoch 87: val_loss did not improve from 0.19350\n",
      "1333/1333 [==============================] - 7s 5ms/step - loss: 0.2004 - accuracy: 0.6993 - val_loss: 0.1950 - val_accuracy: 0.6984\n",
      "Epoch 88/100\n",
      "1330/1333 [============================>.] - ETA: 0s - loss: 0.2002 - accuracy: 0.6992\n",
      "Epoch 88: val_loss did not improve from 0.19350\n",
      "1333/1333 [==============================] - 7s 5ms/step - loss: 0.2003 - accuracy: 0.6992 - val_loss: 0.1949 - val_accuracy: 0.6954\n",
      "Epoch 89/100\n",
      "1323/1333 [============================>.] - ETA: 0s - loss: 0.1997 - accuracy: 0.6986\n",
      "Epoch 89: val_loss did not improve from 0.19350\n",
      "1333/1333 [==============================] - 7s 5ms/step - loss: 0.1995 - accuracy: 0.6988 - val_loss: 0.1939 - val_accuracy: 0.6913\n",
      "Epoch 90/100\n",
      "1326/1333 [============================>.] - ETA: 0s - loss: 0.1994 - accuracy: 0.6976\n",
      "Epoch 90: val_loss did not improve from 0.19350\n",
      "1333/1333 [==============================] - 7s 5ms/step - loss: 0.1995 - accuracy: 0.6975 - val_loss: 0.1938 - val_accuracy: 0.6929\n",
      "Epoch 91/100\n",
      "1330/1333 [============================>.] - ETA: 0s - loss: 0.1991 - accuracy: 0.6969\n",
      "Epoch 91: val_loss improved from 0.19350 to 0.19189, saving model to ./model\\autoencoders-selu.h5\n",
      "1333/1333 [==============================] - 7s 5ms/step - loss: 0.1990 - accuracy: 0.6969 - val_loss: 0.1919 - val_accuracy: 0.6989\n",
      "Epoch 92/100\n",
      "1329/1333 [============================>.] - ETA: 0s - loss: 0.1993 - accuracy: 0.6967\n",
      "Epoch 92: val_loss did not improve from 0.19189\n",
      "1333/1333 [==============================] - 7s 5ms/step - loss: 0.1993 - accuracy: 0.6967 - val_loss: 0.1946 - val_accuracy: 0.6894\n",
      "Epoch 93/100\n",
      "1328/1333 [============================>.] - ETA: 0s - loss: 0.1978 - accuracy: 0.6970\n",
      "Epoch 93: val_loss did not improve from 0.19189\n",
      "1333/1333 [==============================] - 7s 5ms/step - loss: 0.1978 - accuracy: 0.6970 - val_loss: 0.1931 - val_accuracy: 0.6982\n",
      "Epoch 94/100\n",
      "1323/1333 [============================>.] - ETA: 0s - loss: 0.1984 - accuracy: 0.6960\n",
      "Epoch 94: val_loss did not improve from 0.19189\n",
      "1333/1333 [==============================] - 7s 5ms/step - loss: 0.1983 - accuracy: 0.6962 - val_loss: 0.1924 - val_accuracy: 0.6957\n",
      "Epoch 95/100\n",
      "1324/1333 [============================>.] - ETA: 0s - loss: 0.1974 - accuracy: 0.6961\n",
      "Epoch 95: val_loss improved from 0.19189 to 0.19161, saving model to ./model\\autoencoders-selu.h5\n",
      "1333/1333 [==============================] - 7s 5ms/step - loss: 0.1975 - accuracy: 0.6959 - val_loss: 0.1916 - val_accuracy: 0.6938\n",
      "Epoch 96/100\n",
      "1326/1333 [============================>.] - ETA: 0s - loss: 0.1971 - accuracy: 0.6948\n",
      "Epoch 96: val_loss did not improve from 0.19161\n",
      "1333/1333 [==============================] - 7s 5ms/step - loss: 0.1971 - accuracy: 0.6948 - val_loss: 0.1940 - val_accuracy: 0.6929\n",
      "Epoch 97/100\n",
      "1329/1333 [============================>.] - ETA: 0s - loss: 0.1970 - accuracy: 0.6945\n",
      "Epoch 97: val_loss did not improve from 0.19161\n",
      "1333/1333 [==============================] - 7s 5ms/step - loss: 0.1971 - accuracy: 0.6946 - val_loss: 0.1959 - val_accuracy: 0.6943\n",
      "Epoch 98/100\n",
      "1327/1333 [============================>.] - ETA: 0s - loss: 0.1966 - accuracy: 0.6945\n",
      "Epoch 98: val_loss improved from 0.19161 to 0.19113, saving model to ./model\\autoencoders-selu.h5\n",
      "1333/1333 [==============================] - 7s 5ms/step - loss: 0.1966 - accuracy: 0.6946 - val_loss: 0.1911 - val_accuracy: 0.6906\n",
      "Epoch 99/100\n",
      "1333/1333 [==============================] - ETA: 0s - loss: 0.1964 - accuracy: 0.6938\n",
      "Epoch 99: val_loss did not improve from 0.19113\n",
      "1333/1333 [==============================] - 7s 5ms/step - loss: 0.1964 - accuracy: 0.6938 - val_loss: 0.1920 - val_accuracy: 0.7009\n",
      "Epoch 100/100\n",
      "1323/1333 [============================>.] - ETA: 0s - loss: 0.1952 - accuracy: 0.6945\n",
      "Epoch 100: val_loss did not improve from 0.19113\n",
      "1333/1333 [==============================] - 7s 5ms/step - loss: 0.1954 - accuracy: 0.6945 - val_loss: 0.2027 - val_accuracy: 0.6851\n"
     ]
    }
   ],
   "source": [
    "with tf.device('/GPU:0'):\n",
    "    history = model.fit(train, train, batch_size=128, validation_split=0.25, epochs=100, callbacks=[cp, es])\n"
   ]
  },
  {
   "cell_type": "markdown",
   "metadata": {},
   "source": [
    "### Avaliando o treinamento do modelo"
   ]
  },
  {
   "cell_type": "code",
   "execution_count": 47,
   "metadata": {},
   "outputs": [
    {
     "data": {
      "image/png": "[encoded data removed]",
      "text/plain": [
       "<Figure size 1008x576 with 1 Axes>"
      ]
     },
     "metadata": {},
     "output_type": "display_data"
    }
   ],
   "source": [
    "plt.title('Erro do Modelo')\n",
    "plt.plot(history.history['loss'])\n",
    "plt.plot(history.history['val_loss'])\n",
    "plt.ylabel('Erro')\n",
    "plt.xlabel('Epoch')\n",
    "plt.legend(['Treino', 'Teste'], loc = 'upper right');"
   ]
  },
  {
   "cell_type": "markdown",
   "metadata": {},
   "source": [
    "### Carregando o modelo treinado"
   ]
  },
  {
   "cell_type": "code",
   "execution_count": 48,
   "metadata": {},
   "outputs": [],
   "source": [
    "model = tf.keras.models.load_model('./model/autoencoders-selu.h5') "
   ]
  },
  {
   "cell_type": "markdown",
   "metadata": {},
   "source": [
    "### Executando o modelo para prever as classes de testes"
   ]
  },
  {
   "cell_type": "code",
   "execution_count": 49,
   "metadata": {},
   "outputs": [],
   "source": [
    "#test_window_pred = model.predict(test_window)\n",
    "test_pred = model.predict(test)"
   ]
  },
  {
   "cell_type": "markdown",
   "metadata": {},
   "source": [
    "Vamos identificar agora o erro da reconstrução gerada pelo modelo. O erro de reconstrução vai ser utilizado para prever a probabilidade de uma amostra ser uma instância anômola. \n",
    "\n",
    "O fato de termos utilizado apenas registros `normais` para o treinamento do modelo do autoencoder é que durante o processo de inferência os registros anômolos perde as caracteristicas anômolas e o decodificador as reconstroi como sendo um registro normal, resultando em um grande erro de reconstrução.\n",
    "\n",
    "Depois de calcular todos os erros no dataset de teste podemos gerar uma probabilidade, entre 0 e 1, indicando o percentual de anômalia que essa instancia possui. Com base nisso, podemos definir um threshold para limitar quais registros são anômalos."
   ]
  },
  {
   "cell_type": "code",
   "execution_count": 65,
   "metadata": {},
   "outputs": [],
   "source": [
    "erro_reconstrucao = []"
   ]
  },
  {
   "cell_type": "markdown",
   "metadata": {},
   "source": [
    "### Função de calculo de erro para reconstrução"
   ]
  },
  {
   "cell_type": "markdown",
   "metadata": {},
   "source": [
    "Vamos criar uma função para validar se o erro deve ser calculado"
   ]
  },
  {
   "cell_type": "code",
   "execution_count": 51,
   "metadata": {},
   "outputs": [],
   "source": [
    "# def condicao_erro(y_true, y_pred, i, iteration):\n",
    "#     return tf.less(i, iteration)"
   ]
  },
  {
   "cell_type": "markdown",
   "metadata": {},
   "source": [
    "Agora vamos criar a função que irá calcular o erro de reconstrução: Dado uma instância predita e sua instancia real, qual a diferença entre a distância desses registros"
   ]
  },
  {
   "cell_type": "code",
   "execution_count": 58,
   "metadata": {},
   "outputs": [],
   "source": [
    "# def calculo_erro(y_true, y_pred, i, iteration):\n",
    "#     diff_error = tf.math.subtract(tf.slice(y_true, [i,0,0], [1, -1, -1]),\n",
    "#                                   tf.slice(y_pred, [i,0,0], [1, -1, -1]))\n",
    "    \n",
    "#     diff_error = tf.reshape(diff_error, [window_size, features])\n",
    "    \n",
    "    \n",
    "#     error = tf.math.reduce_mean(tf.norm(diff_error, ord='euclidean', axis=1))\n",
    "#     erro_reconstrucao.append(error.numpy())\n",
    "#     return [y_true, y_pred, tf.add(i, 1), iteration]"
   ]
  },
  {
   "cell_type": "code",
   "execution_count": 59,
   "metadata": {},
   "outputs": [],
   "source": [
    "# iteration = tf.constant(len(test_window))"
   ]
  },
  {
   "cell_type": "markdown",
   "metadata": {},
   "source": [
    "Vamos executar agora a geração dos erros"
   ]
  },
  {
   "cell_type": "code",
   "execution_count": 61,
   "metadata": {},
   "outputs": [],
   "source": [
    "# result = tf.while_loop(condicao_erro, calculo_erro, [tf.constant(test_window.astype(np.float32)),\n",
    "#                                                      tf.constant(test_window_pred.astype(np.float32)), 0, iteration])"
   ]
  },
  {
   "cell_type": "code",
   "execution_count": 93,
   "metadata": {},
   "outputs": [],
   "source": [
    "mse = np.mean(np.power(test-test_pred, 2), axis=1)\n",
    "y_test = df.iloc[test.index]['Class'].values"
   ]
  },
  {
   "cell_type": "code",
   "execution_count": 94,
   "metadata": {},
   "outputs": [],
   "source": [
    "error_df = pd.DataFrame({'error_pred': mse, 'pred': y_test})"
   ]
  },
  {
   "cell_type": "code",
   "execution_count": 95,
   "metadata": {},
   "outputs": [
    {
     "data": {
      "text/html": [
       "<div>\n",
       "<style scoped>\n",
       "    .dataframe tbody tr th:only-of-type {\n",
       "        vertical-align: middle;\n",
       "    }\n",
       "\n",
       "    .dataframe tbody tr th {\n",
       "        vertical-align: top;\n",
       "    }\n",
       "\n",
       "    .dataframe thead th {\n",
       "        text-align: right;\n",
       "    }\n",
       "</style>\n",
       "<table border=\"1\" class=\"dataframe\">\n",
       "  <thead>\n",
       "    <tr style=\"text-align: right;\">\n",
       "      <th></th>\n",
       "      <th>error_pred</th>\n",
       "      <th>pred</th>\n",
       "    </tr>\n",
       "  </thead>\n",
       "  <tbody>\n",
       "    <tr>\n",
       "      <th>count</th>\n",
       "      <td>57355.000000</td>\n",
       "      <td>57355.000000</td>\n",
       "    </tr>\n",
       "    <tr>\n",
       "      <th>mean</th>\n",
       "      <td>0.258290</td>\n",
       "      <td>0.008578</td>\n",
       "    </tr>\n",
       "    <tr>\n",
       "      <th>std</th>\n",
       "      <td>1.323781</td>\n",
       "      <td>0.092221</td>\n",
       "    </tr>\n",
       "    <tr>\n",
       "      <th>min</th>\n",
       "      <td>0.008217</td>\n",
       "      <td>0.000000</td>\n",
       "    </tr>\n",
       "    <tr>\n",
       "      <th>25%</th>\n",
       "      <td>0.072454</td>\n",
       "      <td>0.000000</td>\n",
       "    </tr>\n",
       "    <tr>\n",
       "      <th>50%</th>\n",
       "      <td>0.123306</td>\n",
       "      <td>0.000000</td>\n",
       "    </tr>\n",
       "    <tr>\n",
       "      <th>75%</th>\n",
       "      <td>0.222172</td>\n",
       "      <td>0.000000</td>\n",
       "    </tr>\n",
       "    <tr>\n",
       "      <th>max</th>\n",
       "      <td>92.873891</td>\n",
       "      <td>1.000000</td>\n",
       "    </tr>\n",
       "  </tbody>\n",
       "</table>\n",
       "</div>"
      ],
      "text/plain": [
       "         error_pred          pred\n",
       "count  57355.000000  57355.000000\n",
       "mean       0.258290      0.008578\n",
       "std        1.323781      0.092221\n",
       "min        0.008217      0.000000\n",
       "25%        0.072454      0.000000\n",
       "50%        0.123306      0.000000\n",
       "75%        0.222172      0.000000\n",
       "max       92.873891      1.000000"
      ]
     },
     "execution_count": 95,
     "metadata": {},
     "output_type": "execute_result"
    }
   ],
   "source": [
    "error_df.describe()"
   ]
  },
  {
   "cell_type": "code",
   "execution_count": null,
   "metadata": {},
   "outputs": [],
   "source": [
    "erro_reconstrucao = np.array(erro_reconstrucao).reshape(-1,1)"
   ]
  },
  {
   "cell_type": "code",
   "execution_count": null,
   "metadata": {},
   "outputs": [],
   "source": [
    "erro_reconstrucao[0:5]"
   ]
  },
  {
   "cell_type": "markdown",
   "metadata": {},
   "source": [
    "Vamos normalizar os erros para eles ficarem em uma mesma escala"
   ]
  },
  {
   "cell_type": "code",
   "execution_count": null,
   "metadata": {},
   "outputs": [],
   "source": [
    "erro_scaler = MinMaxScaler()\n",
    "previsao_anomalias = erro_scaler.fit_transform(erro_reconstrucao).flatten()"
   ]
  },
  {
   "cell_type": "markdown",
   "metadata": {},
   "source": [
    "Vamos agora buscar os status de classe para os registros de teste e buscar coloca-los dentro das janelas. Se houver um registro anômalo iremos colocar a classe dessa janela como sendo anômala."
   ]
  },
  {
   "cell_type": "code",
   "execution_count": null,
   "metadata": {},
   "outputs": [],
   "source": [
    "# status_test = df.iloc[test.index]['Class'].values\n",
    "# labels = [1 if np.sum(status_test[i:i+window_size]) > 0 else 0 for i in range(0, len(status_test)-window_size + 1, stride)]"
   ]
  },
  {
   "cell_type": "markdown",
   "metadata": {},
   "source": [
    "Vamos verificar agora se o modelo foi capaz de identificar com sucesso as anomalias nas transações."
   ]
  },
  {
   "cell_type": "code",
   "execution_count": null,
   "metadata": {},
   "outputs": [],
   "source": [
    "plt.figure(figsize=(20,10))\n",
    "plt.plot(labels, c='blue', label='y')\n",
    "plt.plot(previsao_anomalias, c='red', label='$\\hat{y}$')\n",
    "plt.yticks(np.arange(0, 1.1, 0.1))\n",
    "plt.xlabel('Transações')\n",
    "plt.ylabel('Score de anomalias')\n",
    "plt.grid()\n",
    "plt.legend()\n",
    "plt.title('Transações com % de chance de ser anomalias')\n",
    "plt.show()"
   ]
  },
  {
   "cell_type": "markdown",
   "metadata": {},
   "source": [
    "## Avaliação do modelo\n",
    "\n",
    "Vamos avaliar agora se o nosso modelo teve uma boa taxa de acerto nos dados de testes. Vamos utilizar a curva ROC-AUC para medir a eficácia de nosso modelo em distingir as duas classes. \n",
    "\n",
    "Valores perto do canto superior esquerdo, perto de 1, indicam que o classificar é bom em distinguir as classes e valores abaixo da área média, perto de 0.5, indicam que o modelo não conseguiu distinguir entre as classes."
   ]
  },
  {
   "cell_type": "code",
   "execution_count": null,
   "metadata": {},
   "outputs": [],
   "source": [
    "fpr, tpr, threshold = roc_curve(labels, previsao_anomalias)"
   ]
  },
  {
   "cell_type": "code",
   "execution_count": null,
   "metadata": {},
   "outputs": [],
   "source": [
    "score_auc = roc_auc_score(labels, previsao_anomalias)\n",
    "print('Score AUC: ', score_auc)"
   ]
  },
  {
   "cell_type": "code",
   "execution_count": null,
   "metadata": {},
   "outputs": [],
   "source": [
    "plt.figure(figsize = (10,5))\n",
    "plt.title('ROC')\n",
    "plt.plot([0, 1], [0, 1], color = 'black', linestyle = '--')\n",
    "plt.plot(fpr, tpr, label = 'AUC = {}'.format(score_auc))\n",
    "plt.xlabel('FPR')\n",
    "plt.ylabel('TPR')\n",
    "plt.legend()\n",
    "plt.show()"
   ]
  },
  {
   "cell_type": "markdown",
   "metadata": {},
   "source": [
    "Nosso modelo conseguiu classificar bem os eventos com transações anômalas. Porém como temos dados desbalanceados o ROC pode não expressar corretamente o quao bom ou ruim esta nosso modelo. Vamos utilizar para isso outras métricas de avaliação."
   ]
  },
  {
   "cell_type": "markdown",
   "metadata": {},
   "source": [
    "## Precisão vs Recal\n",
    "\n",
    "!['Precisao vs Recall'](./images/precision_recall.png)\n",
    "\n",
    "Precisão e Recall são métricas para avaliar o quanto um modelo esta conseguindo identificar as classes corretas durante um processo de classificação. Porém a precisão e o recall tem objetivos distintos na identificação do quão bem o modelo esta classificando.\n",
    "\n",
    "Precisão e recall são definidos da seguinte forma:\n",
    "\n",
    "$$\\text{Precision} = \\frac{\\text{true positives}}{\\text{true positives} + \\text{false positives}}$$\n",
    "\n",
    "$$\\text{Recall} = \\frac{\\text{true positives}}{\\text{true positives} + \\text{false negatives}}$$\n",
    "\n",
    "* A precisão mede a relevância dos resultados obtidos. \n",
    "\n",
    "* Recall, por outro lado, mede quantos resultados relevantes são retornados.\n",
    "\n",
    "Ambos os valores podem ter valores entre 0 e 1."
   ]
  },
  {
   "cell_type": "markdown",
   "metadata": {},
   "source": [
    "Vamos calcular agora os valores e plotar em um gráfico"
   ]
  },
  {
   "cell_type": "code",
   "execution_count": null,
   "metadata": {},
   "outputs": [],
   "source": [
    "precision, recall, th = precision_recall_curve(labels, previsao_anomalias)"
   ]
  },
  {
   "cell_type": "code",
   "execution_count": null,
   "metadata": {},
   "outputs": [],
   "source": [
    "plt.title('Recall vs Precisão')\n",
    "plt.plot(recall, precision, 'b', label = 'Curva Precisão-Recall')\n",
    "plt.xlabel('Recall')\n",
    "plt.ylabel('Precisão')\n",
    "plt.show()"
   ]
  },
  {
   "cell_type": "code",
   "execution_count": null,
   "metadata": {},
   "outputs": [],
   "source": [
    "plt.plot(th, precision[1:], 'b', label = 'Curva Threshold-Precisão')\n",
    "plt.title('Precisão Para Diferentes Valores de threshold')\n",
    "plt.xlabel('Threshold')\n",
    "plt.ylabel('Precisão')\n",
    "plt.show()"
   ]
  },
  {
   "cell_type": "code",
   "execution_count": null,
   "metadata": {},
   "outputs": [],
   "source": [
    "plt.plot(th, recall[1:], 'b', label = 'Curva Threshold-Recall')\n",
    "plt.title('Recall Para Diferentes Valores de threshold')\n",
    "plt.xlabel('Erro de Reconstrução')\n",
    "plt.ylabel('Recall')\n",
    "plt.show()"
   ]
  },
  {
   "cell_type": "markdown",
   "metadata": {},
   "source": [
    "## Identificando fraudes\n",
    "\n",
    "Precisamos agora definir um limite de threshold para o nosso modelo. Valores acima desse limite indicaram que os registros possuem fraude na transação, então precisamos achar um valor que consiga identificar o maior número possível de fraudes.\n",
    "\n",
    "Vamos utilizar como base a métrica de F1-Score, que é uma média harmônica de precisão e recall."
   ]
  },
  {
   "cell_type": "code",
   "execution_count": null,
   "metadata": {},
   "outputs": [],
   "source": [
    "limites_anomalias = [(previsao_anomalias > i).astype(np.int32) for i in threshold]\n",
    "f1_scores = [f1_score(labels, i) for i in limites_anomalias]"
   ]
  },
  {
   "cell_type": "code",
   "execution_count": null,
   "metadata": {},
   "outputs": [],
   "source": [
    "plt.figure(figsize = (10, 5))\n",
    "plt.title('F-1 Score vs Thresholds')\n",
    "plt.plot(threshold, f1_scores)\n",
    "plt.xlabel('Thresholds')\n",
    "plt.ylabel('F-1 Score')\n",
    "plt.show()"
   ]
  },
  {
   "cell_type": "markdown",
   "metadata": {},
   "source": [
    "Vamos obter o melhor threshold"
   ]
  },
  {
   "cell_type": "code",
   "execution_count": null,
   "metadata": {},
   "outputs": [],
   "source": [
    "melhor_threshold = threshold[f1_scores.index(np.max(f1_scores))]\n",
    "print('Melhor Threshold = {}'.format(melhor_threshold))"
   ]
  },
  {
   "cell_type": "markdown",
   "metadata": {},
   "source": [
    "Vamos agora classificar nossos registros com base nesse threshold"
   ]
  },
  {
   "cell_type": "code",
   "execution_count": null,
   "metadata": {},
   "outputs": [],
   "source": [
    "indicador_fraude = (previsao_anomalias > melhor_threshold).astype(np.int32)"
   ]
  },
  {
   "cell_type": "code",
   "execution_count": null,
   "metadata": {},
   "outputs": [],
   "source": [
    "indicador_fraude"
   ]
  },
  {
   "cell_type": "markdown",
   "metadata": {},
   "source": [
    "Vamos analisar agora como ficou as classificações dos registros com base no threshold selecionado"
   ]
  },
  {
   "cell_type": "code",
   "execution_count": null,
   "metadata": {},
   "outputs": [],
   "source": [
    "confusion_matrix(labels, indicador_fraude)"
   ]
  },
  {
   "cell_type": "code",
   "execution_count": null,
   "metadata": {},
   "outputs": [],
   "source": [
    "indicador_fraude_final = ['normal' if i == 0 else 'fraude' for i in indicador_fraude]"
   ]
  },
  {
   "cell_type": "code",
   "execution_count": null,
   "metadata": {},
   "outputs": [],
   "source": [
    "plt.figure(figsize = (20,10))\n",
    "sns.scatterplot(x = np.arange(0, len(previsao_anomalias)), y = previsao_anomalias, hue = indicador_fraude_final,\n",
    "                palette = ['blue', 'red'], legend = 'full')\n",
    "plt.axhline(y = melhor_threshold, linestyle = '--', label = 'threshold')\n",
    "plt.legend()\n",
    "plt.grid()\n",
    "plt.show()"
   ]
  },
  {
   "cell_type": "markdown",
   "metadata": {},
   "source": [
    "## Metricas de performance"
   ]
  },
  {
   "cell_type": "code",
   "execution_count": null,
   "metadata": {},
   "outputs": [],
   "source": [
    "precision = precision_score(labels, indicador_fraude)\n",
    "recall = recall_score(labels, indicador_fraude)\n",
    "f1_sc = f1_score(labels, indicador_fraude)\n",
    "accuracy_sc = accuracy_score(labels, indicador_fraude)"
   ]
  },
  {
   "cell_type": "code",
   "execution_count": null,
   "metadata": {},
   "outputs": [],
   "source": [
    "print('Métricas de Avaliação do Modelo:\\nPrecision = {}\\nRecall = {}\\nScore F1 = {}\\nAcurácia = {}'\n",
    "      .format(precision, recall, f1_sc, accuracy_sc))"
   ]
  },
  {
   "cell_type": "code",
   "execution_count": null,
   "metadata": {},
   "outputs": [],
   "source": []
  }
 ],
 "metadata": {
  "interpreter": {
   "hash": "1fb0c83d26dfee852088ccf90efed194bfc1e2010a06069a41d5c2610fba13de"
  },
  "kernelspec": {
   "display_name": "Python 3.9.7 ('tcc': venv)",
   "language": "python",
   "name": "python3"
  },
  "language_info": {
   "codemirror_mode": {
    "name": "ipython",
    "version": 3
   },
   "file_extension": ".py",
   "mimetype": "text/x-python",
   "name": "python",
   "nbconvert_exporter": "python",
   "pygments_lexer": "ipython3",
   "version": "3.9.7"
  },
  "orig_nbformat": 4
 },
 "nbformat": 4,
 "nbformat_minor": 2
}
